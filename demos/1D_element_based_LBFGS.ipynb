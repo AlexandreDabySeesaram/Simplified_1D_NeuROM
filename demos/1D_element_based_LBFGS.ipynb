{
 "cells": [
  {
   "cell_type": "markdown",
   "id": "9b0acc4b-f1f4-4aaa-bf2b-f812ff21b014",
   "metadata": {},
   "source": [
    "# Element based 1D HideNN-FEM - L-BFGS training\n",
    "\n",
    "$\\forall v\\in V(\\Omega), $ find $u\\in H(\\Omega)$,\n",
    "\n",
    "\n",
    "$$\\int_\\Omega \\nabla v \\cdot \\lambda(x) \\nabla u = \\int_\\Omega f v  + \\int_{\\partial \\Omega_N} g v$$"
   ]
  },
  {
   "cell_type": "code",
   "execution_count": 2,
   "id": "1efd7ec2",
   "metadata": {},
   "outputs": [],
   "source": [
    "import torch\n",
    "import torch.nn as nn\n",
    "import numpy as np\n",
    "import matplotlib.pyplot as plt\n",
    "import plotly.graph_objects as go\n",
    "\n",
    "torch.set_default_dtype(torch.float32)"
   ]
  },
  {
   "cell_type": "markdown",
   "id": "bdb5f313",
   "metadata": {},
   "source": [
    "## Space interpolation (legacy)\n",
    "\n",
    "We recode 1D shape functions in HideNN-FEM (first order).\n"
   ]
  },
  {
   "cell_type": "code",
   "execution_count": 52,
   "id": "bc632bce",
   "metadata": {},
   "outputs": [
    {
     "data": {
      "application/vnd.plotly.v1+json": {
       "config": {
        "plotlyServerURL": "https://plot.ly"
       },
       "data": [
        {
         "line": {
          "color": "#01426a"
         },
         "name": "N1",
         "type": "scatter",
         "x": [
          -0.8999999761581421,
          -0.8878787755966187,
          -0.8757575750350952,
          -0.863636314868927,
          -0.8515151143074036,
          -0.8393939137458801,
          -0.8272727131843567,
          -0.8151515126228333,
          -0.803030252456665,
          -0.7909090518951416,
          -0.7787878513336182,
          -0.7666666507720947,
          -0.7545454502105713,
          -0.7424241900444031,
          -0.7303029894828796,
          -0.7181817889213562,
          -0.7060605883598328,
          -0.6939393877983093,
          -0.6818181276321411,
          -0.6696969270706177,
          -0.6575757265090942,
          -0.6454545259475708,
          -0.6333333253860474,
          -0.6212120652198792,
          -0.6090908646583557,
          -0.5969696640968323,
          -0.5848484635353088,
          -0.5727272629737854,
          -0.5606060028076172,
          -0.5484848022460938,
          -0.5363636016845703,
          -0.5242424011230469,
          -0.5121212005615234,
          -0.4999999701976776,
          -0.4878787398338318,
          -0.47575753927230835,
          -0.4636363089084625,
          -0.4515151083469391,
          -0.43939390778541565,
          -0.4272726774215698,
          -0.4151514768600464,
          -0.40303024649620056,
          -0.3909090459346771,
          -0.3787878453731537,
          -0.36666661500930786,
          -0.3545454144477844,
          -0.3424241840839386,
          -0.33030298352241516,
          -0.31818175315856934,
          -0.3060605525970459,
          -0.29393941164016724,
          -0.2818182110786438,
          -0.269696980714798,
          -0.25757578015327454,
          -0.2454545646905899,
          -0.23333334922790527,
          -0.22121213376522064,
          -0.209090918302536,
          -0.19696970283985138,
          -0.18484848737716675,
          -0.1727272868156433,
          -0.16060607135295868,
          -0.14848485589027405,
          -0.13636364042758942,
          -0.12424243241548538,
          -0.11212121695280075,
          -0.10000000894069672,
          -0.08787879347801208,
          -0.07575757801532745,
          -0.06363637000322342,
          -0.05151515454053879,
          -0.039393942803144455,
          -0.027272731065750122,
          -0.01515151746571064,
          -0.0030303047969937325,
          0.009090907871723175,
          0.021212119609117508,
          0.03333333134651184,
          0.04545454680919647,
          0.057575758546590805,
          0.06969697028398514,
          0.08181818574666977,
          0.0939393937587738,
          0.10606060922145844,
          0.11818182468414307,
          0.1303030401468277,
          0.14242424070835114,
          0.15454545617103577,
          0.1666666716337204,
          0.17878788709640503,
          0.19090910255908966,
          0.2030303180217743,
          0.21515151858329773,
          0.22727273404598236,
          0.239393949508667,
          0.25151515007019043,
          0.26363638043403625,
          0.2757575809955597,
          0.2878788113594055,
          0.30000001192092896
         ],
         "y": [
          1,
          0.9898989796638489,
          0.9797980189323425,
          0.9696969389915466,
          0.9595959186553955,
          0.9494949579238892,
          0.939393937587738,
          0.9292929172515869,
          0.9191918969154358,
          0.9090908765792847,
          0.8989899158477783,
          0.8888888955116272,
          0.8787878751754761,
          0.868686854839325,
          0.8585858345031738,
          0.8484848737716675,
          0.8383838534355164,
          0.8282828330993652,
          0.8181818127632141,
          0.808080792427063,
          0.7979798316955566,
          0.7878788113594055,
          0.7777777910232544,
          0.7676767706871033,
          0.7575757503509521,
          0.7474747896194458,
          0.7373737096786499,
          0.7272727489471436,
          0.7171716690063477,
          0.7070707082748413,
          0.6969696879386902,
          0.6868686676025391,
          0.6767677068710327,
          0.6666666865348816,
          0.6565656661987305,
          0.6464646458625793,
          0.6363636255264282,
          0.6262626647949219,
          0.616161584854126,
          0.6060606241226196,
          0.5959596037864685,
          0.5858585834503174,
          0.575757622718811,
          0.5656566023826599,
          0.5555555820465088,
          0.5454545617103577,
          0.5353535413742065,
          0.5252524614334106,
          0.5151515007019043,
          0.505050539970398,
          0.4949495792388916,
          0.4848485589027405,
          0.4747474789619446,
          0.46464651823043823,
          0.4545454978942871,
          0.444444477558136,
          0.43434351682662964,
          0.4242424964904785,
          0.4141414761543274,
          0.40404045581817627,
          0.39393943548202515,
          0.3838384747505188,
          0.3737373948097229,
          0.3636363744735718,
          0.35353541374206543,
          0.3434343934059143,
          0.3333333730697632,
          0.32323241233825684,
          0.31313133239746094,
          0.3030303716659546,
          0.29292935132980347,
          0.28282833099365234,
          0.2727273106575012,
          0.2626262903213501,
          0.252525269985199,
          0.24242430925369263,
          0.2323232889175415,
          0.22222232818603516,
          0.21212124824523926,
          0.20202022790908813,
          0.1919192671775818,
          0.18181824684143066,
          0.17171722650527954,
          0.16161620616912842,
          0.1515151858329773,
          0.14141422510147095,
          0.13131320476531982,
          0.1212121844291687,
          0.11111122369766235,
          0.10101020336151123,
          0.09090912342071533,
          0.08080810308456421,
          0.07070708274841309,
          0.06060612201690674,
          0.050505101680755615,
          0.04040408134460449,
          0.030303120613098145,
          0.02020210027694702,
          0.010101020336151123,
          0
         ]
        },
        {
         "line": {
          "color": "#CE0037"
         },
         "name": "N2",
         "type": "scatter",
         "x": [
          -0.8999999761581421,
          -0.8878787755966187,
          -0.8757575750350952,
          -0.863636314868927,
          -0.8515151143074036,
          -0.8393939137458801,
          -0.8272727131843567,
          -0.8151515126228333,
          -0.803030252456665,
          -0.7909090518951416,
          -0.7787878513336182,
          -0.7666666507720947,
          -0.7545454502105713,
          -0.7424241900444031,
          -0.7303029894828796,
          -0.7181817889213562,
          -0.7060605883598328,
          -0.6939393877983093,
          -0.6818181276321411,
          -0.6696969270706177,
          -0.6575757265090942,
          -0.6454545259475708,
          -0.6333333253860474,
          -0.6212120652198792,
          -0.6090908646583557,
          -0.5969696640968323,
          -0.5848484635353088,
          -0.5727272629737854,
          -0.5606060028076172,
          -0.5484848022460938,
          -0.5363636016845703,
          -0.5242424011230469,
          -0.5121212005615234,
          -0.4999999701976776,
          -0.4878787398338318,
          -0.47575753927230835,
          -0.4636363089084625,
          -0.4515151083469391,
          -0.43939390778541565,
          -0.4272726774215698,
          -0.4151514768600464,
          -0.40303024649620056,
          -0.3909090459346771,
          -0.3787878453731537,
          -0.36666661500930786,
          -0.3545454144477844,
          -0.3424241840839386,
          -0.33030298352241516,
          -0.31818175315856934,
          -0.3060605525970459,
          -0.29393941164016724,
          -0.2818182110786438,
          -0.269696980714798,
          -0.25757578015327454,
          -0.2454545646905899,
          -0.23333334922790527,
          -0.22121213376522064,
          -0.209090918302536,
          -0.19696970283985138,
          -0.18484848737716675,
          -0.1727272868156433,
          -0.16060607135295868,
          -0.14848485589027405,
          -0.13636364042758942,
          -0.12424243241548538,
          -0.11212121695280075,
          -0.10000000894069672,
          -0.08787879347801208,
          -0.07575757801532745,
          -0.06363637000322342,
          -0.05151515454053879,
          -0.039393942803144455,
          -0.027272731065750122,
          -0.01515151746571064,
          -0.0030303047969937325,
          0.009090907871723175,
          0.021212119609117508,
          0.03333333134651184,
          0.04545454680919647,
          0.057575758546590805,
          0.06969697028398514,
          0.08181818574666977,
          0.0939393937587738,
          0.10606060922145844,
          0.11818182468414307,
          0.1303030401468277,
          0.14242424070835114,
          0.15454545617103577,
          0.1666666716337204,
          0.17878788709640503,
          0.19090910255908966,
          0.2030303180217743,
          0.21515151858329773,
          0.22727273404598236,
          0.239393949508667,
          0.25151515007019043,
          0.26363638043403625,
          0.2757575809955597,
          0.2878788113594055,
          0.30000001192092896
         ],
         "y": [
          0,
          0.010100999847054482,
          0.020201999694108963,
          0.030303049832582474,
          0.040404051542282104,
          0.05050504952669144,
          0.06060605123639107,
          0.0707070529460907,
          0.08080810308456421,
          0.09090910106897354,
          0.10101009905338287,
          0.1111110970377922,
          0.12121210247278214,
          0.13131314516067505,
          0.14141415059566498,
          0.1515151560306549,
          0.16161614656448364,
          0.17171715199947357,
          0.18181820213794708,
          0.19191919267177582,
          0.20202019810676575,
          0.21212120354175568,
          0.2222221940755844,
          0.23232324421405792,
          0.24242424964904785,
          0.2525252401828766,
          0.2626262605190277,
          0.27272725105285645,
          0.28282830119132996,
          0.2929292917251587,
          0.3030303120613098,
          0.31313130259513855,
          0.3232322931289673,
          0.3333333134651184,
          0.3434343636035919,
          0.35353535413742065,
          0.3636363744735718,
          0.3737373650074005,
          0.38383838534355164,
          0.39393940567970276,
          0.4040403962135315,
          0.4141414165496826,
          0.42424240708351135,
          0.4343433976173401,
          0.4444444477558136,
          0.45454543828964233,
          0.46464648842811584,
          0.47474750876426697,
          0.4848484992980957,
          0.49494948983192444,
          0.5050504207611084,
          0.5151514410972595,
          0.5252525210380554,
          0.5353534817695618,
          0.5454545021057129,
          0.555555522441864,
          0.5656564831733704,
          0.5757575035095215,
          0.5858585238456726,
          0.5959595441818237,
          0.6060605645179749,
          0.6161615252494812,
          0.6262626051902771,
          0.6363636255264282,
          0.6464645862579346,
          0.6565656065940857,
          0.6666666269302368,
          0.6767675876617432,
          0.6868686676025391,
          0.6969696283340454,
          0.7070706486701965,
          0.7171716690063477,
          0.7272726893424988,
          0.7373737096786499,
          0.747474730014801,
          0.7575756907463074,
          0.7676767110824585,
          0.7777776718139648,
          0.7878787517547607,
          0.7979797720909119,
          0.8080807328224182,
          0.8181817531585693,
          0.8282827734947205,
          0.8383837938308716,
          0.8484848141670227,
          0.858585774898529,
          0.8686867952346802,
          0.8787878155708313,
          0.8888887763023376,
          0.8989897966384888,
          0.9090908765792847,
          0.9191918969154358,
          0.9292929172515869,
          0.9393938779830933,
          0.9494948983192444,
          0.9595959186553955,
          0.9696968793869019,
          0.979797899723053,
          0.9898989796638489,
          1
         ]
        }
       ],
       "layout": {
        "height": 400,
        "legend": {
         "traceorder": "normal",
         "x": 0,
         "y": 1
        },
        "margin": {
         "b": 0,
         "l": 0,
         "r": 0,
         "t": 0
        },
        "plot_bgcolor": "rgba(0,0,0,0)",
        "template": {
         "data": {
          "bar": [
           {
            "error_x": {
             "color": "#2a3f5f"
            },
            "error_y": {
             "color": "#2a3f5f"
            },
            "marker": {
             "line": {
              "color": "#E5ECF6",
              "width": 0.5
             },
             "pattern": {
              "fillmode": "overlay",
              "size": 10,
              "solidity": 0.2
             }
            },
            "type": "bar"
           }
          ],
          "barpolar": [
           {
            "marker": {
             "line": {
              "color": "#E5ECF6",
              "width": 0.5
             },
             "pattern": {
              "fillmode": "overlay",
              "size": 10,
              "solidity": 0.2
             }
            },
            "type": "barpolar"
           }
          ],
          "carpet": [
           {
            "aaxis": {
             "endlinecolor": "#2a3f5f",
             "gridcolor": "white",
             "linecolor": "white",
             "minorgridcolor": "white",
             "startlinecolor": "#2a3f5f"
            },
            "baxis": {
             "endlinecolor": "#2a3f5f",
             "gridcolor": "white",
             "linecolor": "white",
             "minorgridcolor": "white",
             "startlinecolor": "#2a3f5f"
            },
            "type": "carpet"
           }
          ],
          "choropleth": [
           {
            "colorbar": {
             "outlinewidth": 0,
             "ticks": ""
            },
            "type": "choropleth"
           }
          ],
          "contour": [
           {
            "colorbar": {
             "outlinewidth": 0,
             "ticks": ""
            },
            "colorscale": [
             [
              0,
              "#0d0887"
             ],
             [
              0.1111111111111111,
              "#46039f"
             ],
             [
              0.2222222222222222,
              "#7201a8"
             ],
             [
              0.3333333333333333,
              "#9c179e"
             ],
             [
              0.4444444444444444,
              "#bd3786"
             ],
             [
              0.5555555555555556,
              "#d8576b"
             ],
             [
              0.6666666666666666,
              "#ed7953"
             ],
             [
              0.7777777777777778,
              "#fb9f3a"
             ],
             [
              0.8888888888888888,
              "#fdca26"
             ],
             [
              1,
              "#f0f921"
             ]
            ],
            "type": "contour"
           }
          ],
          "contourcarpet": [
           {
            "colorbar": {
             "outlinewidth": 0,
             "ticks": ""
            },
            "type": "contourcarpet"
           }
          ],
          "heatmap": [
           {
            "colorbar": {
             "outlinewidth": 0,
             "ticks": ""
            },
            "colorscale": [
             [
              0,
              "#0d0887"
             ],
             [
              0.1111111111111111,
              "#46039f"
             ],
             [
              0.2222222222222222,
              "#7201a8"
             ],
             [
              0.3333333333333333,
              "#9c179e"
             ],
             [
              0.4444444444444444,
              "#bd3786"
             ],
             [
              0.5555555555555556,
              "#d8576b"
             ],
             [
              0.6666666666666666,
              "#ed7953"
             ],
             [
              0.7777777777777778,
              "#fb9f3a"
             ],
             [
              0.8888888888888888,
              "#fdca26"
             ],
             [
              1,
              "#f0f921"
             ]
            ],
            "type": "heatmap"
           }
          ],
          "heatmapgl": [
           {
            "colorbar": {
             "outlinewidth": 0,
             "ticks": ""
            },
            "colorscale": [
             [
              0,
              "#0d0887"
             ],
             [
              0.1111111111111111,
              "#46039f"
             ],
             [
              0.2222222222222222,
              "#7201a8"
             ],
             [
              0.3333333333333333,
              "#9c179e"
             ],
             [
              0.4444444444444444,
              "#bd3786"
             ],
             [
              0.5555555555555556,
              "#d8576b"
             ],
             [
              0.6666666666666666,
              "#ed7953"
             ],
             [
              0.7777777777777778,
              "#fb9f3a"
             ],
             [
              0.8888888888888888,
              "#fdca26"
             ],
             [
              1,
              "#f0f921"
             ]
            ],
            "type": "heatmapgl"
           }
          ],
          "histogram": [
           {
            "marker": {
             "pattern": {
              "fillmode": "overlay",
              "size": 10,
              "solidity": 0.2
             }
            },
            "type": "histogram"
           }
          ],
          "histogram2d": [
           {
            "colorbar": {
             "outlinewidth": 0,
             "ticks": ""
            },
            "colorscale": [
             [
              0,
              "#0d0887"
             ],
             [
              0.1111111111111111,
              "#46039f"
             ],
             [
              0.2222222222222222,
              "#7201a8"
             ],
             [
              0.3333333333333333,
              "#9c179e"
             ],
             [
              0.4444444444444444,
              "#bd3786"
             ],
             [
              0.5555555555555556,
              "#d8576b"
             ],
             [
              0.6666666666666666,
              "#ed7953"
             ],
             [
              0.7777777777777778,
              "#fb9f3a"
             ],
             [
              0.8888888888888888,
              "#fdca26"
             ],
             [
              1,
              "#f0f921"
             ]
            ],
            "type": "histogram2d"
           }
          ],
          "histogram2dcontour": [
           {
            "colorbar": {
             "outlinewidth": 0,
             "ticks": ""
            },
            "colorscale": [
             [
              0,
              "#0d0887"
             ],
             [
              0.1111111111111111,
              "#46039f"
             ],
             [
              0.2222222222222222,
              "#7201a8"
             ],
             [
              0.3333333333333333,
              "#9c179e"
             ],
             [
              0.4444444444444444,
              "#bd3786"
             ],
             [
              0.5555555555555556,
              "#d8576b"
             ],
             [
              0.6666666666666666,
              "#ed7953"
             ],
             [
              0.7777777777777778,
              "#fb9f3a"
             ],
             [
              0.8888888888888888,
              "#fdca26"
             ],
             [
              1,
              "#f0f921"
             ]
            ],
            "type": "histogram2dcontour"
           }
          ],
          "mesh3d": [
           {
            "colorbar": {
             "outlinewidth": 0,
             "ticks": ""
            },
            "type": "mesh3d"
           }
          ],
          "parcoords": [
           {
            "line": {
             "colorbar": {
              "outlinewidth": 0,
              "ticks": ""
             }
            },
            "type": "parcoords"
           }
          ],
          "pie": [
           {
            "automargin": true,
            "type": "pie"
           }
          ],
          "scatter": [
           {
            "fillpattern": {
             "fillmode": "overlay",
             "size": 10,
             "solidity": 0.2
            },
            "type": "scatter"
           }
          ],
          "scatter3d": [
           {
            "line": {
             "colorbar": {
              "outlinewidth": 0,
              "ticks": ""
             }
            },
            "marker": {
             "colorbar": {
              "outlinewidth": 0,
              "ticks": ""
             }
            },
            "type": "scatter3d"
           }
          ],
          "scattercarpet": [
           {
            "marker": {
             "colorbar": {
              "outlinewidth": 0,
              "ticks": ""
             }
            },
            "type": "scattercarpet"
           }
          ],
          "scattergeo": [
           {
            "marker": {
             "colorbar": {
              "outlinewidth": 0,
              "ticks": ""
             }
            },
            "type": "scattergeo"
           }
          ],
          "scattergl": [
           {
            "marker": {
             "colorbar": {
              "outlinewidth": 0,
              "ticks": ""
             }
            },
            "type": "scattergl"
           }
          ],
          "scattermapbox": [
           {
            "marker": {
             "colorbar": {
              "outlinewidth": 0,
              "ticks": ""
             }
            },
            "type": "scattermapbox"
           }
          ],
          "scatterpolar": [
           {
            "marker": {
             "colorbar": {
              "outlinewidth": 0,
              "ticks": ""
             }
            },
            "type": "scatterpolar"
           }
          ],
          "scatterpolargl": [
           {
            "marker": {
             "colorbar": {
              "outlinewidth": 0,
              "ticks": ""
             }
            },
            "type": "scatterpolargl"
           }
          ],
          "scatterternary": [
           {
            "marker": {
             "colorbar": {
              "outlinewidth": 0,
              "ticks": ""
             }
            },
            "type": "scatterternary"
           }
          ],
          "surface": [
           {
            "colorbar": {
             "outlinewidth": 0,
             "ticks": ""
            },
            "colorscale": [
             [
              0,
              "#0d0887"
             ],
             [
              0.1111111111111111,
              "#46039f"
             ],
             [
              0.2222222222222222,
              "#7201a8"
             ],
             [
              0.3333333333333333,
              "#9c179e"
             ],
             [
              0.4444444444444444,
              "#bd3786"
             ],
             [
              0.5555555555555556,
              "#d8576b"
             ],
             [
              0.6666666666666666,
              "#ed7953"
             ],
             [
              0.7777777777777778,
              "#fb9f3a"
             ],
             [
              0.8888888888888888,
              "#fdca26"
             ],
             [
              1,
              "#f0f921"
             ]
            ],
            "type": "surface"
           }
          ],
          "table": [
           {
            "cells": {
             "fill": {
              "color": "#EBF0F8"
             },
             "line": {
              "color": "white"
             }
            },
            "header": {
             "fill": {
              "color": "#C8D4E3"
             },
             "line": {
              "color": "white"
             }
            },
            "type": "table"
           }
          ]
         },
         "layout": {
          "annotationdefaults": {
           "arrowcolor": "#2a3f5f",
           "arrowhead": 0,
           "arrowwidth": 1
          },
          "autotypenumbers": "strict",
          "coloraxis": {
           "colorbar": {
            "outlinewidth": 0,
            "ticks": ""
           }
          },
          "colorscale": {
           "diverging": [
            [
             0,
             "#8e0152"
            ],
            [
             0.1,
             "#c51b7d"
            ],
            [
             0.2,
             "#de77ae"
            ],
            [
             0.3,
             "#f1b6da"
            ],
            [
             0.4,
             "#fde0ef"
            ],
            [
             0.5,
             "#f7f7f7"
            ],
            [
             0.6,
             "#e6f5d0"
            ],
            [
             0.7,
             "#b8e186"
            ],
            [
             0.8,
             "#7fbc41"
            ],
            [
             0.9,
             "#4d9221"
            ],
            [
             1,
             "#276419"
            ]
           ],
           "sequential": [
            [
             0,
             "#0d0887"
            ],
            [
             0.1111111111111111,
             "#46039f"
            ],
            [
             0.2222222222222222,
             "#7201a8"
            ],
            [
             0.3333333333333333,
             "#9c179e"
            ],
            [
             0.4444444444444444,
             "#bd3786"
            ],
            [
             0.5555555555555556,
             "#d8576b"
            ],
            [
             0.6666666666666666,
             "#ed7953"
            ],
            [
             0.7777777777777778,
             "#fb9f3a"
            ],
            [
             0.8888888888888888,
             "#fdca26"
            ],
            [
             1,
             "#f0f921"
            ]
           ],
           "sequentialminus": [
            [
             0,
             "#0d0887"
            ],
            [
             0.1111111111111111,
             "#46039f"
            ],
            [
             0.2222222222222222,
             "#7201a8"
            ],
            [
             0.3333333333333333,
             "#9c179e"
            ],
            [
             0.4444444444444444,
             "#bd3786"
            ],
            [
             0.5555555555555556,
             "#d8576b"
            ],
            [
             0.6666666666666666,
             "#ed7953"
            ],
            [
             0.7777777777777778,
             "#fb9f3a"
            ],
            [
             0.8888888888888888,
             "#fdca26"
            ],
            [
             1,
             "#f0f921"
            ]
           ]
          },
          "colorway": [
           "#636efa",
           "#EF553B",
           "#00cc96",
           "#ab63fa",
           "#FFA15A",
           "#19d3f3",
           "#FF6692",
           "#B6E880",
           "#FF97FF",
           "#FECB52"
          ],
          "font": {
           "color": "#2a3f5f"
          },
          "geo": {
           "bgcolor": "white",
           "lakecolor": "white",
           "landcolor": "#E5ECF6",
           "showlakes": true,
           "showland": true,
           "subunitcolor": "white"
          },
          "hoverlabel": {
           "align": "left"
          },
          "hovermode": "closest",
          "mapbox": {
           "style": "light"
          },
          "paper_bgcolor": "white",
          "plot_bgcolor": "#E5ECF6",
          "polar": {
           "angularaxis": {
            "gridcolor": "white",
            "linecolor": "white",
            "ticks": ""
           },
           "bgcolor": "#E5ECF6",
           "radialaxis": {
            "gridcolor": "white",
            "linecolor": "white",
            "ticks": ""
           }
          },
          "scene": {
           "xaxis": {
            "backgroundcolor": "#E5ECF6",
            "gridcolor": "white",
            "gridwidth": 2,
            "linecolor": "white",
            "showbackground": true,
            "ticks": "",
            "zerolinecolor": "white"
           },
           "yaxis": {
            "backgroundcolor": "#E5ECF6",
            "gridcolor": "white",
            "gridwidth": 2,
            "linecolor": "white",
            "showbackground": true,
            "ticks": "",
            "zerolinecolor": "white"
           },
           "zaxis": {
            "backgroundcolor": "#E5ECF6",
            "gridcolor": "white",
            "gridwidth": 2,
            "linecolor": "white",
            "showbackground": true,
            "ticks": "",
            "zerolinecolor": "white"
           }
          },
          "shapedefaults": {
           "line": {
            "color": "#2a3f5f"
           }
          },
          "ternary": {
           "aaxis": {
            "gridcolor": "white",
            "linecolor": "white",
            "ticks": ""
           },
           "baxis": {
            "gridcolor": "white",
            "linecolor": "white",
            "ticks": ""
           },
           "bgcolor": "#E5ECF6",
           "caxis": {
            "gridcolor": "white",
            "linecolor": "white",
            "ticks": ""
           }
          },
          "title": {
           "x": 0.05
          },
          "xaxis": {
           "automargin": true,
           "gridcolor": "white",
           "linecolor": "white",
           "ticks": "",
           "title": {
            "standoff": 15
           },
           "zerolinecolor": "white",
           "zerolinewidth": 2
          },
          "yaxis": {
           "automargin": true,
           "gridcolor": "white",
           "linecolor": "white",
           "ticks": "",
           "title": {
            "standoff": 15
           },
           "zerolinecolor": "white",
           "zerolinewidth": 2
          }
         }
        },
        "width": 700,
        "xaxis": {
         "gridcolor": "lightgray",
         "showgrid": true,
         "title": {
          "text": "x [mm]"
         }
        },
        "yaxis": {
         "gridcolor": "lightgray",
         "showgrid": true,
         "tickfont": {
          "color": "#01426a"
         },
         "title": {
          "font": {
           "color": "#01426a"
          },
          "text": "u(x) [mm]"
         }
        }
       }
      }
     },
     "metadata": {},
     "output_type": "display_data"
    }
   ],
   "source": [
    "class mySF1D_elementBased(nn.Module):    \n",
    "    def __init__(self, left = -1.,  right = 1.):\n",
    "        super().__init__()        \n",
    "        \n",
    "        self.left   = left\n",
    "        self.right  = right\n",
    "\n",
    "        # To easily transfer to CUDA or change dtype of whole model\n",
    "        self.register_buffer('one', torch.tensor([1], dtype=torch.float32))\n",
    "\n",
    "    def forward(self, x=None, training=False):  \n",
    "        if training : x = (self.left + self.right) / torch.tensor(2., requires_grad=True) \n",
    "        sf1 = - (x - self.left) / (self.right - self.left) + self.one\n",
    "        sf2 = (x - self.left)/(self.right - self.left)\n",
    "        if training : return  sf1, sf2, self.right - self.left, x\n",
    "        else : return  sf1, sf2\n",
    "\n",
    "\n",
    "l, r    =  -0.9, 0.3\n",
    "mySF    = mySF1D_elementBased(left = l, right = r)\n",
    "\n",
    "XX      = torch.linspace(l,r,100)\n",
    "s1, s2  = mySF(XX)\n",
    "# plt.plot(XX.data, s1.data,label='N1')\n",
    "# plt.plot(XX.data, s2.data,label='N2')\n",
    "# plt.grid()\n",
    "# plt.xlabel(\"x [mm]\")\n",
    "# plt.ylabel(\"shape functions\")\n",
    "# plt.legend()  \n",
    "# plt.show()\n",
    "\n",
    "\n",
    "\n",
    "fig = go.Figure()\n",
    "\n",
    "fig.add_trace(go.Scatter(x=XX.data, y=s1.data, name='N1',    line=dict(color='#01426a')))\n",
    "\n",
    "fig.add_trace(go.Scatter(x=XX.data, y=s2.data, name='N2', line=dict(color='#CE0037')))\n",
    "\n",
    "fig.update_layout(\n",
    "    margin=dict(l=0, r=0, t=0, b=0),\n",
    "    plot_bgcolor='rgba(0,0,0,0)',  # Remove background color\n",
    "    width=700, \n",
    "    height=400,  \n",
    "    xaxis=dict(title='x [mm]',\n",
    "    showgrid=True,\n",
    "    gridcolor='lightgray'),\n",
    "    yaxis=dict(title='u(x) [mm]',\n",
    "    showgrid=True,\n",
    "    gridcolor='lightgray',\n",
    "    titlefont=dict(color='#01426a'),\n",
    "    tickfont=dict(color='#01426a'),),    \n",
    "    legend=dict(x=0, y=1, traceorder=\"normal\")\n",
    ")\n",
    "\n",
    "fig.show()\n",
    "\n",
    "\n"
   ]
  },
  {
   "cell_type": "markdown",
   "id": "94aa2045",
   "metadata": {},
   "source": [
    "## Vectorised version of the Element-based implementation\n",
    "\n",
    "We recode 1D shape functions in HideNN-FEM (first order).\n",
    "\n",
    "A vectorised implementation enables batch processing of several points evaluation which in terns enables batch wise differentiation.\n",
    "\n",
    "* In non-batched implementation\n",
    "\n",
    "    * `du_dx = [torch.autograd.grad(u[i], x[i], grad_outputs=torch.ones_like(u[i]), create_graph=True) for i,_ in enumerate(u)`\n",
    "\n",
    "* With the batched version\n",
    "    * `du_dx = torch.autograd.grad(u, x, grad_outputs=torch.ones_like(u), create_graph=True) `\n"
   ]
  },
  {
   "cell_type": "code",
   "execution_count": 4,
   "id": "1aaacfd3",
   "metadata": {},
   "outputs": [],
   "source": [
    "class mySF1D_elementBased_vectorised(nn.Module):\n",
    "    def __init__(self, connectivity):\n",
    "        super(mySF1D_elementBased_vectorised, self).__init__()\n",
    "        if connectivity.dim == 1:\n",
    "            connectivity = connectivity[:,None]\n",
    "        self.connectivity = connectivity\n",
    "        self.register_buffer('GaussPoint',self.GP())\n",
    "        self.register_buffer('w_g',torch.tensor(1.0))\n",
    "\n",
    "\n",
    "    def UpdateConnectivity(self,connectivity):\n",
    "        self.connectivity = connectivity.astype(int)\n",
    "\n",
    "    def GP(self):\n",
    "        \"Defines the position of the intergration point(s) for the given element\"\n",
    "\n",
    "        return torch.tensor([[1/2, 1/2]], requires_grad=True)                                       # a1, a2, th 2 area coordinates\n",
    "\n",
    "    def forward(self, \n",
    "                x               : torch.Tensor  = None  , \n",
    "                cell_id         : list          = None  , \n",
    "                coordinates     : torch.Tensor  = None  , \n",
    "                flag_training   : bool          = False):\n",
    "\n",
    "        assert coordinates is not None, \"No nodes coordinates provided. Aborting\"\n",
    "\n",
    "        cell_nodes_IDs  = self.connectivity[cell_id,:].T\n",
    "        Ids             = torch.as_tensor(cell_nodes_IDs).to(coordinates.device).t()[:,:,None]      # :,:,None] usefull only in 2+D  \n",
    "        nodes_coord     = torch.gather(coordinates[:,None,:].repeat(1,2,1),0, Ids.repeat(1,1,1))    # [:,:,None] usefull only in 2+D  Ids.repeat(1,1,d) with d \\in [1,3]\n",
    "        \n",
    "        nodes_coord = nodes_coord.to(self.GaussPoint.dtype)\n",
    "\n",
    "        if flag_training:\n",
    "            refCoordg   = self.GaussPoint.repeat(cell_id.shape[0],1)\n",
    "            Ng          = refCoordg\n",
    "            x_g         = torch.einsum('enx,en->ex',nodes_coord,Ng)\n",
    "            refCoord    = self.GetRefCoord(x_g,nodes_coord)\n",
    "            N           = refCoord\n",
    "            detJ        = nodes_coord[:,1] - nodes_coord[:,0]\n",
    "            return N, x_g, detJ*self.w_g\n",
    "\n",
    "        else:\n",
    "            refCoord = self.GetRefCoord(x,nodes_coord)\n",
    "            N = torch.stack((refCoord[:,0], refCoord[:,1]),dim=1) \n",
    "            return N\n",
    "\n",
    "    \n",
    "    def GetRefCoord(self,x, nodes_coord):\n",
    "        InverseMapping          = torch.ones([int(nodes_coord.shape[0]), 2, 2], dtype=x.dtype, device=x.device)\n",
    "        detJ                    = nodes_coord[:,0,0] - nodes_coord[:,1,0]\n",
    "        InverseMapping[:,0,1]   = -nodes_coord[:,1,0]\n",
    "        InverseMapping[:,1,1]   = nodes_coord[:,0,0]\n",
    "        InverseMapping[:,1,0]   = -1*InverseMapping[:,1,0]\n",
    "        InverseMapping[:,:,:]  /= detJ[:,None,None]\n",
    "        x_extended = torch.stack((x, torch.ones_like(x)),dim=1)\n",
    "\n",
    "\n",
    "        return torch.einsum('eij,ej...->ei',InverseMapping,x_extended.squeeze(1))"
   ]
  },
  {
   "cell_type": "markdown",
   "id": "b3690ab6",
   "metadata": {},
   "source": [
    "#### Recall on the iso-parametric Finite Element Method\n",
    "\n",
    "In 1D, for P1 elements, there are two shape functions per element, $N_1\\left(\\xi\\right)$ and $N_2\\left(\\xi\\right)$, $\\xi \\in \\left[0,1\\right]$ being the coordinate in the reference element space.\n",
    "\n",
    "The iso-parametric idea relies on using the same interpolation for the space coordinates as is used for the QoIs, which means that space is interpolated using the same shape functions as the displacement is for instance.\n",
    "Thus, the real space coordinate $x$ satisfies\n",
    "* $x = \\sum_{i=1}^{2}N_i\\left(\\xi \\right) x_i$, \n",
    "\n",
    " with $x_i$ the coordinate of the node associated with the $i-$th shape function.\n",
    "\n",
    " Such mapping can be expressed using the area coordinates $a_1$ and $a_2$ (such that $N_1\\left(\\xi\\right) = a_1$ and $N_2\\left(\\xi\\right) = a_2$).\n",
    "\n",
    " $\\begin{pmatrix}\n",
    "x \\\\\n",
    "1\n",
    "\\end{pmatrix} = \\underbrace{\\begin{bmatrix}\n",
    "x_1 & x_2\\\\\n",
    "1 & 1\n",
    "\\end{bmatrix}}_{\\mathcal{M}} \\begin{pmatrix}\n",
    "a_1 \\\\\n",
    "a_2\n",
    "\\end{pmatrix}.\n",
    " $\n",
    "\n",
    " Reciprocally (for non degenerated elements), \n",
    "\n",
    " $\n",
    " \\begin{pmatrix}\n",
    "a_1 \\\\\n",
    "a_2\n",
    "\\end{pmatrix} = \\underbrace{\\frac{1}{x_1 - x_2}\\begin{bmatrix}\n",
    "1 & -x_2\\\\\n",
    "-1 & x_1\n",
    "\\end{bmatrix}}_{\\mathcal{M}^{-1}} \\begin{pmatrix}\n",
    "x \\\\\n",
    "1\n",
    "\\end{pmatrix}.\n",
    " $"
   ]
  },
  {
   "cell_type": "markdown",
   "id": "a0a30f77",
   "metadata": {},
   "source": [
    "## Mesh generation"
   ]
  },
  {
   "cell_type": "code",
   "execution_count": 5,
   "id": "0727b62c",
   "metadata": {},
   "outputs": [],
   "source": [
    "N           = 40\n",
    "nodes       = torch.linspace(0,6.28,N)\n",
    "nodes       = nodes[:,None]\n",
    "elements    = torch.vstack([torch.arange(0,N-1),torch.arange(1,N)]).T"
   ]
  },
  {
   "cell_type": "markdown",
   "id": "f7564fb3",
   "metadata": {},
   "source": [
    "## Assembly using the vectorised element block"
   ]
  },
  {
   "cell_type": "code",
   "execution_count": 6,
   "id": "c6a66453",
   "metadata": {},
   "outputs": [],
   "source": [
    "class interpolation1D(nn.Module):    \n",
    "    def __init__(self, \n",
    "            nodes           : torch.Tensor  = None  , \n",
    "            elements        : list          = None  , \n",
    "            dirichlet       : list          =[0,nodes.shape[0]-1]     ,                 # Fixed nodes (by default, 2 extremities of the beam)\n",
    "            n_components    : int           = 1     ):                                  # Number of dofs per node \n",
    "        super().__init__()        \n",
    "        self.register_buffer('nodes', nodes)\n",
    "        self.coordinates =nn.ParameterDict({\n",
    "                                    'all': self.nodes,\n",
    "                                    })                                                  # Should use different entries for trainable and fixed coordinates\n",
    "\n",
    "        \n",
    "        self.coordinates[\"all\"].requires_grad   = False \n",
    "        self.n_components                       = n_components\n",
    "        self.register_buffer('values',0.5*torch.ones((self.coordinates[\"all\"].shape[0], self.n_components)))\n",
    "        self.dirichlet = dirichlet\n",
    "\n",
    "        \n",
    "        self.elements = elements\n",
    "\n",
    "        self.Ne = len(elements)\n",
    "\n",
    "        self.shape_functions = mySF1D_elementBased_vectorised(elements)                 \n",
    "\n",
    "        # To easily transfer to CUDA or change dtype of whole model\n",
    "        self.register_buffer('one', torch.tensor([1], dtype=torch.float32))\n",
    "\n",
    "        self.SetBCs()\n",
    "\n",
    "    def SetBCs(self):\n",
    "        assert self.n_components == 1, \"only scalar field implemented. Aborting\"\n",
    "        if self.n_components == 1:\n",
    "            self.dofs_free                  = (torch.ones_like(self.values[:])==1)[:,0]\n",
    "            self.dofs_free[self.dirichlet]  = False\n",
    "            \n",
    "\n",
    "\n",
    "            nodal_values_imposed            = 0*self.values[~self.dofs_free,:]              # Not generic yet, only 0 BCs\n",
    "\n",
    "\n",
    "            nodal_values_free               = self.values[self.dofs_free,:] \n",
    "            self.nodal_values               = nn.ParameterDict({\n",
    "                                                'free'      : nodal_values_free,\n",
    "                                                'imposed'   : nodal_values_imposed,\n",
    "                                                })\n",
    "            self.nodal_values['imposed'].requires_grad = False\n",
    "\n",
    "    def forward(self, x = None): \n",
    "        if self.training :\n",
    "            k_elt = torch.arange(0,self.Ne)\n",
    "        else :\n",
    "            k_elt = []\n",
    "            for xx in x:\n",
    "                for k in range(self.Ne):\n",
    "                    elt = self.elements[k]\n",
    "                    if xx >= self.coordinates[\"all\"][elt[0]] and xx <= self.coordinates[\"all\"][elt[1]]:\n",
    "                        k_elt.append(k)\n",
    "                        break\n",
    "        if self.training : \n",
    "            shape_functions, x_g, detJ = self.shape_functions(\n",
    "                x               = x                 , \n",
    "                cell_id         = k_elt             , \n",
    "                coordinates     = self.nodes        , \n",
    "                flag_training   = self.training     )\n",
    "        else:\n",
    "            shape_functions = self.shape_functions(\n",
    "                x               = x                 , \n",
    "                cell_id         = k_elt             , \n",
    "                coordinates     = self.nodes        , \n",
    "                flag_training   = self.training     )\n",
    "        # Batch interpolation of the solution using the computed shape functions batch\n",
    "        nodal_values_tensor                     = torch.ones_like(self.values)\n",
    "        nodal_values_tensor[self.dofs_free,:]   = self.nodal_values['free']\n",
    "        nodal_values_tensor[~self.dofs_free,:]  = self.nodal_values['imposed']                    \n",
    "\n",
    "        cell_nodes_IDs      = self.elements[k_elt,:].T\n",
    "        Ids                 = torch.as_tensor(cell_nodes_IDs).to(nodal_values_tensor.device).t()[:,:,None]      # :,:,None] usefull only in 2+D  \n",
    "\n",
    "        \n",
    "        self.nodes_values   = torch.gather(nodal_values_tensor[:,None,:].repeat(1,2,1),0, Ids.repeat(1,1,1))    # [:,:,None] usefull only in 2+D  Ids.repeat(1,1,d) with d \\in [1,3]\n",
    "        self.nodes_values   = self.nodes_values.to(shape_functions.dtype)\n",
    "        u = torch.einsum('gi...,gi->g',self.nodes_values,shape_functions)   \n",
    "\n",
    "        if self.training : \n",
    "\n",
    "            return u, x_g, detJ\n",
    "        else:\n",
    "            return u\n"
   ]
  },
  {
   "cell_type": "code",
   "execution_count": 7,
   "id": "b1583c6b",
   "metadata": {},
   "outputs": [
    {
     "name": "stdout",
     "output_type": "stream",
     "text": [
      "* Model set in training mode\n"
     ]
    }
   ],
   "source": [
    "model = interpolation1D(nodes, elements)\n",
    "model.train()\n",
    "print(\"* Model set in training mode\")"
   ]
  },
  {
   "cell_type": "markdown",
   "id": "cd26c15d",
   "metadata": {},
   "source": [
    "## Training with batch version\n",
    "\n"
   ]
  },
  {
   "cell_type": "code",
   "execution_count": 8,
   "id": "bb03f2b2",
   "metadata": {},
   "outputs": [],
   "source": [
    "def PotentialEnergy(u,x,f,J):\n",
    "    \"\"\"Computes the potential energy of the Beam, which will be used as the loss of the HiDeNN\"\"\"\n",
    "    du_dx = torch.autograd.grad(u, x, grad_outputs=torch.ones_like(u), create_graph=True)[0]\n",
    "    # Vectorised calculation of the integral terms\n",
    "    int_term1 =  0.5 * du_dx*du_dx * J\n",
    "    int_term2 =  f(x) * J * u\n",
    "\n",
    "    # Vectorised calculation of the integral using the trapezoidal rule\n",
    "    integral = torch.sum(int_term1 - int_term2)\n",
    "    return integral\n",
    "\n",
    "def f(x):\n",
    "    return 1000 #-x*(x-10)"
   ]
  },
  {
   "cell_type": "code",
   "execution_count": 9,
   "id": "444df94f",
   "metadata": {},
   "outputs": [
    {
     "name": "stdout",
     "output_type": "stream",
     "text": [
      "i = 9 | loss = -4.02e+08\r"
     ]
    }
   ],
   "source": [
    "\n",
    "optimizer = torch.optim.LBFGS(model.parameters(),\n",
    "                line_search_fn=\"strong_wolfe\")\n",
    "# Training\n",
    "Nepoch          = 10\n",
    "lossList        = []\n",
    "lossTraining    = []\n",
    "\n",
    "def closure():\n",
    "    optimizer.zero_grad()\n",
    "    u, x_g, detJ    = model()\n",
    "    loss            = PotentialEnergy(u,x_g,f,detJ)\n",
    "    loss.backward()\n",
    "    return loss\n",
    "\n",
    "model.train()\n",
    "for i in range(Nepoch):\n",
    "    optimizer.step(closure)\n",
    "    loss = closure()\n",
    "    lossTraining.append(loss.data)\n",
    "    print(f\"{i = } | loss = {loss.data :.2e}\", end = \"\\r\")"
   ]
  },
  {
   "cell_type": "markdown",
   "id": "ab2e037f",
   "metadata": {},
   "source": [
    "#### Post-processing"
   ]
  },
  {
   "cell_type": "code",
   "execution_count": 45,
   "id": "ba5a08dd",
   "metadata": {},
   "outputs": [
    {
     "data": {
      "application/vnd.plotly.v1+json": {
       "config": {
        "plotlyServerURL": "https://plot.ly"
       },
       "data": [
        {
         "line": {
          "color": "#01426a"
         },
         "mode": "lines+markers",
         "name": "du/dx",
         "type": "scatter",
         "y": [
          -400811584,
          -402204320,
          -402204320,
          -402204320,
          -402204320,
          -402204320,
          -402204320,
          -402204320,
          -402204320,
          -402204320
         ]
        }
       ],
       "layout": {
        "height": 400,
        "margin": {
         "b": 0,
         "l": 0,
         "r": 0,
         "t": 0
        },
        "plot_bgcolor": "rgba(0,0,0,0)",
        "template": {
         "data": {
          "bar": [
           {
            "error_x": {
             "color": "#2a3f5f"
            },
            "error_y": {
             "color": "#2a3f5f"
            },
            "marker": {
             "line": {
              "color": "#E5ECF6",
              "width": 0.5
             },
             "pattern": {
              "fillmode": "overlay",
              "size": 10,
              "solidity": 0.2
             }
            },
            "type": "bar"
           }
          ],
          "barpolar": [
           {
            "marker": {
             "line": {
              "color": "#E5ECF6",
              "width": 0.5
             },
             "pattern": {
              "fillmode": "overlay",
              "size": 10,
              "solidity": 0.2
             }
            },
            "type": "barpolar"
           }
          ],
          "carpet": [
           {
            "aaxis": {
             "endlinecolor": "#2a3f5f",
             "gridcolor": "white",
             "linecolor": "white",
             "minorgridcolor": "white",
             "startlinecolor": "#2a3f5f"
            },
            "baxis": {
             "endlinecolor": "#2a3f5f",
             "gridcolor": "white",
             "linecolor": "white",
             "minorgridcolor": "white",
             "startlinecolor": "#2a3f5f"
            },
            "type": "carpet"
           }
          ],
          "choropleth": [
           {
            "colorbar": {
             "outlinewidth": 0,
             "ticks": ""
            },
            "type": "choropleth"
           }
          ],
          "contour": [
           {
            "colorbar": {
             "outlinewidth": 0,
             "ticks": ""
            },
            "colorscale": [
             [
              0,
              "#0d0887"
             ],
             [
              0.1111111111111111,
              "#46039f"
             ],
             [
              0.2222222222222222,
              "#7201a8"
             ],
             [
              0.3333333333333333,
              "#9c179e"
             ],
             [
              0.4444444444444444,
              "#bd3786"
             ],
             [
              0.5555555555555556,
              "#d8576b"
             ],
             [
              0.6666666666666666,
              "#ed7953"
             ],
             [
              0.7777777777777778,
              "#fb9f3a"
             ],
             [
              0.8888888888888888,
              "#fdca26"
             ],
             [
              1,
              "#f0f921"
             ]
            ],
            "type": "contour"
           }
          ],
          "contourcarpet": [
           {
            "colorbar": {
             "outlinewidth": 0,
             "ticks": ""
            },
            "type": "contourcarpet"
           }
          ],
          "heatmap": [
           {
            "colorbar": {
             "outlinewidth": 0,
             "ticks": ""
            },
            "colorscale": [
             [
              0,
              "#0d0887"
             ],
             [
              0.1111111111111111,
              "#46039f"
             ],
             [
              0.2222222222222222,
              "#7201a8"
             ],
             [
              0.3333333333333333,
              "#9c179e"
             ],
             [
              0.4444444444444444,
              "#bd3786"
             ],
             [
              0.5555555555555556,
              "#d8576b"
             ],
             [
              0.6666666666666666,
              "#ed7953"
             ],
             [
              0.7777777777777778,
              "#fb9f3a"
             ],
             [
              0.8888888888888888,
              "#fdca26"
             ],
             [
              1,
              "#f0f921"
             ]
            ],
            "type": "heatmap"
           }
          ],
          "heatmapgl": [
           {
            "colorbar": {
             "outlinewidth": 0,
             "ticks": ""
            },
            "colorscale": [
             [
              0,
              "#0d0887"
             ],
             [
              0.1111111111111111,
              "#46039f"
             ],
             [
              0.2222222222222222,
              "#7201a8"
             ],
             [
              0.3333333333333333,
              "#9c179e"
             ],
             [
              0.4444444444444444,
              "#bd3786"
             ],
             [
              0.5555555555555556,
              "#d8576b"
             ],
             [
              0.6666666666666666,
              "#ed7953"
             ],
             [
              0.7777777777777778,
              "#fb9f3a"
             ],
             [
              0.8888888888888888,
              "#fdca26"
             ],
             [
              1,
              "#f0f921"
             ]
            ],
            "type": "heatmapgl"
           }
          ],
          "histogram": [
           {
            "marker": {
             "pattern": {
              "fillmode": "overlay",
              "size": 10,
              "solidity": 0.2
             }
            },
            "type": "histogram"
           }
          ],
          "histogram2d": [
           {
            "colorbar": {
             "outlinewidth": 0,
             "ticks": ""
            },
            "colorscale": [
             [
              0,
              "#0d0887"
             ],
             [
              0.1111111111111111,
              "#46039f"
             ],
             [
              0.2222222222222222,
              "#7201a8"
             ],
             [
              0.3333333333333333,
              "#9c179e"
             ],
             [
              0.4444444444444444,
              "#bd3786"
             ],
             [
              0.5555555555555556,
              "#d8576b"
             ],
             [
              0.6666666666666666,
              "#ed7953"
             ],
             [
              0.7777777777777778,
              "#fb9f3a"
             ],
             [
              0.8888888888888888,
              "#fdca26"
             ],
             [
              1,
              "#f0f921"
             ]
            ],
            "type": "histogram2d"
           }
          ],
          "histogram2dcontour": [
           {
            "colorbar": {
             "outlinewidth": 0,
             "ticks": ""
            },
            "colorscale": [
             [
              0,
              "#0d0887"
             ],
             [
              0.1111111111111111,
              "#46039f"
             ],
             [
              0.2222222222222222,
              "#7201a8"
             ],
             [
              0.3333333333333333,
              "#9c179e"
             ],
             [
              0.4444444444444444,
              "#bd3786"
             ],
             [
              0.5555555555555556,
              "#d8576b"
             ],
             [
              0.6666666666666666,
              "#ed7953"
             ],
             [
              0.7777777777777778,
              "#fb9f3a"
             ],
             [
              0.8888888888888888,
              "#fdca26"
             ],
             [
              1,
              "#f0f921"
             ]
            ],
            "type": "histogram2dcontour"
           }
          ],
          "mesh3d": [
           {
            "colorbar": {
             "outlinewidth": 0,
             "ticks": ""
            },
            "type": "mesh3d"
           }
          ],
          "parcoords": [
           {
            "line": {
             "colorbar": {
              "outlinewidth": 0,
              "ticks": ""
             }
            },
            "type": "parcoords"
           }
          ],
          "pie": [
           {
            "automargin": true,
            "type": "pie"
           }
          ],
          "scatter": [
           {
            "fillpattern": {
             "fillmode": "overlay",
             "size": 10,
             "solidity": 0.2
            },
            "type": "scatter"
           }
          ],
          "scatter3d": [
           {
            "line": {
             "colorbar": {
              "outlinewidth": 0,
              "ticks": ""
             }
            },
            "marker": {
             "colorbar": {
              "outlinewidth": 0,
              "ticks": ""
             }
            },
            "type": "scatter3d"
           }
          ],
          "scattercarpet": [
           {
            "marker": {
             "colorbar": {
              "outlinewidth": 0,
              "ticks": ""
             }
            },
            "type": "scattercarpet"
           }
          ],
          "scattergeo": [
           {
            "marker": {
             "colorbar": {
              "outlinewidth": 0,
              "ticks": ""
             }
            },
            "type": "scattergeo"
           }
          ],
          "scattergl": [
           {
            "marker": {
             "colorbar": {
              "outlinewidth": 0,
              "ticks": ""
             }
            },
            "type": "scattergl"
           }
          ],
          "scattermapbox": [
           {
            "marker": {
             "colorbar": {
              "outlinewidth": 0,
              "ticks": ""
             }
            },
            "type": "scattermapbox"
           }
          ],
          "scatterpolar": [
           {
            "marker": {
             "colorbar": {
              "outlinewidth": 0,
              "ticks": ""
             }
            },
            "type": "scatterpolar"
           }
          ],
          "scatterpolargl": [
           {
            "marker": {
             "colorbar": {
              "outlinewidth": 0,
              "ticks": ""
             }
            },
            "type": "scatterpolargl"
           }
          ],
          "scatterternary": [
           {
            "marker": {
             "colorbar": {
              "outlinewidth": 0,
              "ticks": ""
             }
            },
            "type": "scatterternary"
           }
          ],
          "surface": [
           {
            "colorbar": {
             "outlinewidth": 0,
             "ticks": ""
            },
            "colorscale": [
             [
              0,
              "#0d0887"
             ],
             [
              0.1111111111111111,
              "#46039f"
             ],
             [
              0.2222222222222222,
              "#7201a8"
             ],
             [
              0.3333333333333333,
              "#9c179e"
             ],
             [
              0.4444444444444444,
              "#bd3786"
             ],
             [
              0.5555555555555556,
              "#d8576b"
             ],
             [
              0.6666666666666666,
              "#ed7953"
             ],
             [
              0.7777777777777778,
              "#fb9f3a"
             ],
             [
              0.8888888888888888,
              "#fdca26"
             ],
             [
              1,
              "#f0f921"
             ]
            ],
            "type": "surface"
           }
          ],
          "table": [
           {
            "cells": {
             "fill": {
              "color": "#EBF0F8"
             },
             "line": {
              "color": "white"
             }
            },
            "header": {
             "fill": {
              "color": "#C8D4E3"
             },
             "line": {
              "color": "white"
             }
            },
            "type": "table"
           }
          ]
         },
         "layout": {
          "annotationdefaults": {
           "arrowcolor": "#2a3f5f",
           "arrowhead": 0,
           "arrowwidth": 1
          },
          "autotypenumbers": "strict",
          "coloraxis": {
           "colorbar": {
            "outlinewidth": 0,
            "ticks": ""
           }
          },
          "colorscale": {
           "diverging": [
            [
             0,
             "#8e0152"
            ],
            [
             0.1,
             "#c51b7d"
            ],
            [
             0.2,
             "#de77ae"
            ],
            [
             0.3,
             "#f1b6da"
            ],
            [
             0.4,
             "#fde0ef"
            ],
            [
             0.5,
             "#f7f7f7"
            ],
            [
             0.6,
             "#e6f5d0"
            ],
            [
             0.7,
             "#b8e186"
            ],
            [
             0.8,
             "#7fbc41"
            ],
            [
             0.9,
             "#4d9221"
            ],
            [
             1,
             "#276419"
            ]
           ],
           "sequential": [
            [
             0,
             "#0d0887"
            ],
            [
             0.1111111111111111,
             "#46039f"
            ],
            [
             0.2222222222222222,
             "#7201a8"
            ],
            [
             0.3333333333333333,
             "#9c179e"
            ],
            [
             0.4444444444444444,
             "#bd3786"
            ],
            [
             0.5555555555555556,
             "#d8576b"
            ],
            [
             0.6666666666666666,
             "#ed7953"
            ],
            [
             0.7777777777777778,
             "#fb9f3a"
            ],
            [
             0.8888888888888888,
             "#fdca26"
            ],
            [
             1,
             "#f0f921"
            ]
           ],
           "sequentialminus": [
            [
             0,
             "#0d0887"
            ],
            [
             0.1111111111111111,
             "#46039f"
            ],
            [
             0.2222222222222222,
             "#7201a8"
            ],
            [
             0.3333333333333333,
             "#9c179e"
            ],
            [
             0.4444444444444444,
             "#bd3786"
            ],
            [
             0.5555555555555556,
             "#d8576b"
            ],
            [
             0.6666666666666666,
             "#ed7953"
            ],
            [
             0.7777777777777778,
             "#fb9f3a"
            ],
            [
             0.8888888888888888,
             "#fdca26"
            ],
            [
             1,
             "#f0f921"
            ]
           ]
          },
          "colorway": [
           "#636efa",
           "#EF553B",
           "#00cc96",
           "#ab63fa",
           "#FFA15A",
           "#19d3f3",
           "#FF6692",
           "#B6E880",
           "#FF97FF",
           "#FECB52"
          ],
          "font": {
           "color": "#2a3f5f"
          },
          "geo": {
           "bgcolor": "white",
           "lakecolor": "white",
           "landcolor": "#E5ECF6",
           "showlakes": true,
           "showland": true,
           "subunitcolor": "white"
          },
          "hoverlabel": {
           "align": "left"
          },
          "hovermode": "closest",
          "mapbox": {
           "style": "light"
          },
          "paper_bgcolor": "white",
          "plot_bgcolor": "#E5ECF6",
          "polar": {
           "angularaxis": {
            "gridcolor": "white",
            "linecolor": "white",
            "ticks": ""
           },
           "bgcolor": "#E5ECF6",
           "radialaxis": {
            "gridcolor": "white",
            "linecolor": "white",
            "ticks": ""
           }
          },
          "scene": {
           "xaxis": {
            "backgroundcolor": "#E5ECF6",
            "gridcolor": "white",
            "gridwidth": 2,
            "linecolor": "white",
            "showbackground": true,
            "ticks": "",
            "zerolinecolor": "white"
           },
           "yaxis": {
            "backgroundcolor": "#E5ECF6",
            "gridcolor": "white",
            "gridwidth": 2,
            "linecolor": "white",
            "showbackground": true,
            "ticks": "",
            "zerolinecolor": "white"
           },
           "zaxis": {
            "backgroundcolor": "#E5ECF6",
            "gridcolor": "white",
            "gridwidth": 2,
            "linecolor": "white",
            "showbackground": true,
            "ticks": "",
            "zerolinecolor": "white"
           }
          },
          "shapedefaults": {
           "line": {
            "color": "#2a3f5f"
           }
          },
          "ternary": {
           "aaxis": {
            "gridcolor": "white",
            "linecolor": "white",
            "ticks": ""
           },
           "baxis": {
            "gridcolor": "white",
            "linecolor": "white",
            "ticks": ""
           },
           "bgcolor": "#E5ECF6",
           "caxis": {
            "gridcolor": "white",
            "linecolor": "white",
            "ticks": ""
           }
          },
          "title": {
           "x": 0.05
          },
          "xaxis": {
           "automargin": true,
           "gridcolor": "white",
           "linecolor": "white",
           "ticks": "",
           "title": {
            "standoff": 15
           },
           "zerolinecolor": "white",
           "zerolinewidth": 2
          },
          "yaxis": {
           "automargin": true,
           "gridcolor": "white",
           "linecolor": "white",
           "ticks": "",
           "title": {
            "standoff": 15
           },
           "zerolinecolor": "white",
           "zerolinewidth": 2
          }
         }
        },
        "width": 700,
        "xaxis": {
         "gridcolor": "lightgray",
         "showgrid": true,
         "title": {
          "text": "Epochs"
         }
        },
        "yaxis": {
         "gridcolor": "lightgray",
         "showgrid": true,
         "tickfont": {
          "color": "#01426a"
         },
         "ticktext": [
          "-4.022e8",
          "-4.016e8",
          "-4.008e8"
         ],
         "tickvals": [
          -402200000,
          -401600000,
          -400800000
         ],
         "title": {
          "font": {
           "color": "#01426a"
          },
          "text": "Loss"
         }
        }
       }
      }
     },
     "metadata": {},
     "output_type": "display_data"
    }
   ],
   "source": [
    "import matplotlib.pyplot as plt\n",
    "\n",
    "# plt.figure()\n",
    "# plt.plot(lossTraining)\n",
    "# plt.xlabel(\"Epochs\")\n",
    "# plt.ylabel(\"Loss\")\n",
    "# plt.show()\n",
    "\n",
    "\n",
    "\n",
    "fig = go.Figure()\n",
    "\n",
    "x_data = x_g.data.numpy()[:,0]\n",
    "y_data = du_dxg.data.numpy()[:,0]\n",
    "fig.add_trace(go.Scatter( y=lossTraining, mode='lines+markers', name='du/dx', line=dict(color='#01426a')\n",
    "))\n",
    "\n",
    "fig.update_layout(\n",
    "    margin=dict(l=0, r=0, t=0, b=0),\n",
    "    plot_bgcolor='rgba(0,0,0,0)',  # Remove background color\n",
    "    width=700, \n",
    "    height=400,  \n",
    "    xaxis=dict(title='Epochs',\n",
    "    showgrid=True,\n",
    "    gridcolor='lightgray'),\n",
    "    yaxis=dict(title='Loss',\n",
    "    tickvals=[-4.022e8, -4.016e8, -4.008e8],\n",
    "    ticktext=['-4.022e8', '-4.016e8', '-4.008e8'],\n",
    "    showgrid=True,\n",
    "    gridcolor='lightgray',\n",
    "    titlefont=dict(color='#01426a'),\n",
    "    tickfont=dict(color='#01426a'),),\n",
    ")\n",
    "\n",
    "fig.show()"
   ]
  },
  {
   "cell_type": "code",
   "execution_count": 33,
   "id": "f67fa584",
   "metadata": {},
   "outputs": [
    {
     "data": {
      "text/plain": [
       "torch.Size([39, 1])"
      ]
     },
     "execution_count": 33,
     "metadata": {},
     "output_type": "execute_result"
    }
   ],
   "source": [
    "u.shape\n",
    "x_g.shape"
   ]
  },
  {
   "cell_type": "code",
   "execution_count": 47,
   "id": "72a88a4d",
   "metadata": {},
   "outputs": [
    {
     "data": {
      "application/vnd.plotly.v1+json": {
       "config": {
        "plotlyServerURL": "https://plot.ly"
       },
       "data": [
        {
         "line": {
          "color": "#01426a"
         },
         "marker": {
          "symbol": "cross"
         },
         "mode": "markers",
         "name": "Gauss points",
         "type": "scatter",
         "x": [
          0.08051282167434692,
          0.24153846502304077,
          0.4025641083717346,
          0.5635897517204285,
          0.7246153950691223,
          0.8856410384178162,
          1.0466666221618652,
          1.2076923847198486,
          1.368717908859253,
          1.5297436714172363,
          1.6907691955566406,
          1.851794958114624,
          2.0128204822540283,
          2.1738462448120117,
          2.334871768951416,
          2.4958975315093994,
          2.6569230556488037,
          2.817948818206787,
          2.9789743423461914,
          3.140000104904175,
          3.301025867462158,
          3.4620513916015625,
          3.623077154159546,
          3.78410267829895,
          3.9451284408569336,
          4.106154441833496,
          4.267179489135742,
          4.428205490112305,
          4.589230537414551,
          4.750256538391113,
          4.911282539367676,
          5.072307586669922,
          5.233333587646484,
          5.394359588623047,
          5.555384635925293,
          5.7164106369018555,
          5.877435684204102,
          6.038461685180664,
          6.199487686157227
         ],
         "y": [
          246.32815551757812,
          726.0197143554688,
          1179.78173828125,
          1607.6141357421875,
          2009.51806640625,
          2385.4921875,
          2735.536376953125,
          3059.6513671875,
          3357.837158203125,
          3630.0947265625,
          3876.423095703125,
          4096.82275390625,
          4291.291015625,
          4459.83056640625,
          4602.44140625,
          4719.1240234375,
          4809.876953125,
          4874.7001953125,
          4913.5927734375,
          4926.556640625,
          4913.59228515625,
          4874.69921875,
          4809.87646484375,
          4719.123046875,
          4602.4404296875,
          4459.82958984375,
          4291.291015625,
          4096.82177734375,
          3876.423828125,
          3630.094482421875,
          3357.83642578125,
          3059.6513671875,
          2735.530029296875,
          2385.49169921875,
          2009.517822265625,
          1607.6142578125,
          1179.7821044921875,
          726.0180053710938,
          246.3279571533203
         ]
        },
        {
         "line": {
          "color": "#CE0037"
         },
         "marker": {
          "symbol": "circle"
         },
         "mode": "markers",
         "name": "Test points",
         "type": "scatter",
         "x": [
          0,
          0.2068965584039688,
          0.4137931168079376,
          0.6206896901130676,
          0.8275862336158752,
          1.0344828367233276,
          1.2413793802261353,
          1.4482759237289429,
          1.6551724672317505,
          1.862069010734558,
          2.0689656734466553,
          2.275862216949463,
          2.4827587604522705,
          2.689655303955078,
          2.8965518474578857,
          3.1034481525421143,
          3.310344696044922,
          3.5172412395477295,
          3.724137783050537,
          3.9310343265533447,
          4.137930870056152,
          4.344827651977539,
          4.551723957061768,
          4.758620738983154,
          4.965517044067383,
          5.1724138259887695,
          5.379310131072998,
          5.586206912994385,
          5.793103218078613,
          6
         ],
         "y": [
          0,
          625.6113891601562,
          1210.5203857421875,
          1754.7269287109375,
          2254.6162109375,
          2710.03173828125,
          3124.744873046875,
          3498.7568359375,
          3824.835205078125,
          4110.0576171875,
          4354.57666015625,
          4554.9306640625,
          4710.6611328125,
          4825.689453125,
          4900.013671875,
          4926.556640625,
          4912.091796875,
          4856.92578125,
          4757.7470703125,
          4613.7880859375,
          4429.12890625,
          4203.7685546875,
          3930.77978515625,
          3616.62548828125,
          3261.77197265625,
          2863.05517578125,
          2419.41845703125,
          1935.07080078125,
          1410.022705078125,
          837.499267578125
         ]
        }
       ],
       "layout": {
        "height": 400,
        "legend": {
         "traceorder": "normal",
         "x": 0,
         "y": 1
        },
        "margin": {
         "b": 0,
         "l": 0,
         "r": 0,
         "t": 0
        },
        "plot_bgcolor": "rgba(0,0,0,0)",
        "template": {
         "data": {
          "bar": [
           {
            "error_x": {
             "color": "#2a3f5f"
            },
            "error_y": {
             "color": "#2a3f5f"
            },
            "marker": {
             "line": {
              "color": "#E5ECF6",
              "width": 0.5
             },
             "pattern": {
              "fillmode": "overlay",
              "size": 10,
              "solidity": 0.2
             }
            },
            "type": "bar"
           }
          ],
          "barpolar": [
           {
            "marker": {
             "line": {
              "color": "#E5ECF6",
              "width": 0.5
             },
             "pattern": {
              "fillmode": "overlay",
              "size": 10,
              "solidity": 0.2
             }
            },
            "type": "barpolar"
           }
          ],
          "carpet": [
           {
            "aaxis": {
             "endlinecolor": "#2a3f5f",
             "gridcolor": "white",
             "linecolor": "white",
             "minorgridcolor": "white",
             "startlinecolor": "#2a3f5f"
            },
            "baxis": {
             "endlinecolor": "#2a3f5f",
             "gridcolor": "white",
             "linecolor": "white",
             "minorgridcolor": "white",
             "startlinecolor": "#2a3f5f"
            },
            "type": "carpet"
           }
          ],
          "choropleth": [
           {
            "colorbar": {
             "outlinewidth": 0,
             "ticks": ""
            },
            "type": "choropleth"
           }
          ],
          "contour": [
           {
            "colorbar": {
             "outlinewidth": 0,
             "ticks": ""
            },
            "colorscale": [
             [
              0,
              "#0d0887"
             ],
             [
              0.1111111111111111,
              "#46039f"
             ],
             [
              0.2222222222222222,
              "#7201a8"
             ],
             [
              0.3333333333333333,
              "#9c179e"
             ],
             [
              0.4444444444444444,
              "#bd3786"
             ],
             [
              0.5555555555555556,
              "#d8576b"
             ],
             [
              0.6666666666666666,
              "#ed7953"
             ],
             [
              0.7777777777777778,
              "#fb9f3a"
             ],
             [
              0.8888888888888888,
              "#fdca26"
             ],
             [
              1,
              "#f0f921"
             ]
            ],
            "type": "contour"
           }
          ],
          "contourcarpet": [
           {
            "colorbar": {
             "outlinewidth": 0,
             "ticks": ""
            },
            "type": "contourcarpet"
           }
          ],
          "heatmap": [
           {
            "colorbar": {
             "outlinewidth": 0,
             "ticks": ""
            },
            "colorscale": [
             [
              0,
              "#0d0887"
             ],
             [
              0.1111111111111111,
              "#46039f"
             ],
             [
              0.2222222222222222,
              "#7201a8"
             ],
             [
              0.3333333333333333,
              "#9c179e"
             ],
             [
              0.4444444444444444,
              "#bd3786"
             ],
             [
              0.5555555555555556,
              "#d8576b"
             ],
             [
              0.6666666666666666,
              "#ed7953"
             ],
             [
              0.7777777777777778,
              "#fb9f3a"
             ],
             [
              0.8888888888888888,
              "#fdca26"
             ],
             [
              1,
              "#f0f921"
             ]
            ],
            "type": "heatmap"
           }
          ],
          "heatmapgl": [
           {
            "colorbar": {
             "outlinewidth": 0,
             "ticks": ""
            },
            "colorscale": [
             [
              0,
              "#0d0887"
             ],
             [
              0.1111111111111111,
              "#46039f"
             ],
             [
              0.2222222222222222,
              "#7201a8"
             ],
             [
              0.3333333333333333,
              "#9c179e"
             ],
             [
              0.4444444444444444,
              "#bd3786"
             ],
             [
              0.5555555555555556,
              "#d8576b"
             ],
             [
              0.6666666666666666,
              "#ed7953"
             ],
             [
              0.7777777777777778,
              "#fb9f3a"
             ],
             [
              0.8888888888888888,
              "#fdca26"
             ],
             [
              1,
              "#f0f921"
             ]
            ],
            "type": "heatmapgl"
           }
          ],
          "histogram": [
           {
            "marker": {
             "pattern": {
              "fillmode": "overlay",
              "size": 10,
              "solidity": 0.2
             }
            },
            "type": "histogram"
           }
          ],
          "histogram2d": [
           {
            "colorbar": {
             "outlinewidth": 0,
             "ticks": ""
            },
            "colorscale": [
             [
              0,
              "#0d0887"
             ],
             [
              0.1111111111111111,
              "#46039f"
             ],
             [
              0.2222222222222222,
              "#7201a8"
             ],
             [
              0.3333333333333333,
              "#9c179e"
             ],
             [
              0.4444444444444444,
              "#bd3786"
             ],
             [
              0.5555555555555556,
              "#d8576b"
             ],
             [
              0.6666666666666666,
              "#ed7953"
             ],
             [
              0.7777777777777778,
              "#fb9f3a"
             ],
             [
              0.8888888888888888,
              "#fdca26"
             ],
             [
              1,
              "#f0f921"
             ]
            ],
            "type": "histogram2d"
           }
          ],
          "histogram2dcontour": [
           {
            "colorbar": {
             "outlinewidth": 0,
             "ticks": ""
            },
            "colorscale": [
             [
              0,
              "#0d0887"
             ],
             [
              0.1111111111111111,
              "#46039f"
             ],
             [
              0.2222222222222222,
              "#7201a8"
             ],
             [
              0.3333333333333333,
              "#9c179e"
             ],
             [
              0.4444444444444444,
              "#bd3786"
             ],
             [
              0.5555555555555556,
              "#d8576b"
             ],
             [
              0.6666666666666666,
              "#ed7953"
             ],
             [
              0.7777777777777778,
              "#fb9f3a"
             ],
             [
              0.8888888888888888,
              "#fdca26"
             ],
             [
              1,
              "#f0f921"
             ]
            ],
            "type": "histogram2dcontour"
           }
          ],
          "mesh3d": [
           {
            "colorbar": {
             "outlinewidth": 0,
             "ticks": ""
            },
            "type": "mesh3d"
           }
          ],
          "parcoords": [
           {
            "line": {
             "colorbar": {
              "outlinewidth": 0,
              "ticks": ""
             }
            },
            "type": "parcoords"
           }
          ],
          "pie": [
           {
            "automargin": true,
            "type": "pie"
           }
          ],
          "scatter": [
           {
            "fillpattern": {
             "fillmode": "overlay",
             "size": 10,
             "solidity": 0.2
            },
            "type": "scatter"
           }
          ],
          "scatter3d": [
           {
            "line": {
             "colorbar": {
              "outlinewidth": 0,
              "ticks": ""
             }
            },
            "marker": {
             "colorbar": {
              "outlinewidth": 0,
              "ticks": ""
             }
            },
            "type": "scatter3d"
           }
          ],
          "scattercarpet": [
           {
            "marker": {
             "colorbar": {
              "outlinewidth": 0,
              "ticks": ""
             }
            },
            "type": "scattercarpet"
           }
          ],
          "scattergeo": [
           {
            "marker": {
             "colorbar": {
              "outlinewidth": 0,
              "ticks": ""
             }
            },
            "type": "scattergeo"
           }
          ],
          "scattergl": [
           {
            "marker": {
             "colorbar": {
              "outlinewidth": 0,
              "ticks": ""
             }
            },
            "type": "scattergl"
           }
          ],
          "scattermapbox": [
           {
            "marker": {
             "colorbar": {
              "outlinewidth": 0,
              "ticks": ""
             }
            },
            "type": "scattermapbox"
           }
          ],
          "scatterpolar": [
           {
            "marker": {
             "colorbar": {
              "outlinewidth": 0,
              "ticks": ""
             }
            },
            "type": "scatterpolar"
           }
          ],
          "scatterpolargl": [
           {
            "marker": {
             "colorbar": {
              "outlinewidth": 0,
              "ticks": ""
             }
            },
            "type": "scatterpolargl"
           }
          ],
          "scatterternary": [
           {
            "marker": {
             "colorbar": {
              "outlinewidth": 0,
              "ticks": ""
             }
            },
            "type": "scatterternary"
           }
          ],
          "surface": [
           {
            "colorbar": {
             "outlinewidth": 0,
             "ticks": ""
            },
            "colorscale": [
             [
              0,
              "#0d0887"
             ],
             [
              0.1111111111111111,
              "#46039f"
             ],
             [
              0.2222222222222222,
              "#7201a8"
             ],
             [
              0.3333333333333333,
              "#9c179e"
             ],
             [
              0.4444444444444444,
              "#bd3786"
             ],
             [
              0.5555555555555556,
              "#d8576b"
             ],
             [
              0.6666666666666666,
              "#ed7953"
             ],
             [
              0.7777777777777778,
              "#fb9f3a"
             ],
             [
              0.8888888888888888,
              "#fdca26"
             ],
             [
              1,
              "#f0f921"
             ]
            ],
            "type": "surface"
           }
          ],
          "table": [
           {
            "cells": {
             "fill": {
              "color": "#EBF0F8"
             },
             "line": {
              "color": "white"
             }
            },
            "header": {
             "fill": {
              "color": "#C8D4E3"
             },
             "line": {
              "color": "white"
             }
            },
            "type": "table"
           }
          ]
         },
         "layout": {
          "annotationdefaults": {
           "arrowcolor": "#2a3f5f",
           "arrowhead": 0,
           "arrowwidth": 1
          },
          "autotypenumbers": "strict",
          "coloraxis": {
           "colorbar": {
            "outlinewidth": 0,
            "ticks": ""
           }
          },
          "colorscale": {
           "diverging": [
            [
             0,
             "#8e0152"
            ],
            [
             0.1,
             "#c51b7d"
            ],
            [
             0.2,
             "#de77ae"
            ],
            [
             0.3,
             "#f1b6da"
            ],
            [
             0.4,
             "#fde0ef"
            ],
            [
             0.5,
             "#f7f7f7"
            ],
            [
             0.6,
             "#e6f5d0"
            ],
            [
             0.7,
             "#b8e186"
            ],
            [
             0.8,
             "#7fbc41"
            ],
            [
             0.9,
             "#4d9221"
            ],
            [
             1,
             "#276419"
            ]
           ],
           "sequential": [
            [
             0,
             "#0d0887"
            ],
            [
             0.1111111111111111,
             "#46039f"
            ],
            [
             0.2222222222222222,
             "#7201a8"
            ],
            [
             0.3333333333333333,
             "#9c179e"
            ],
            [
             0.4444444444444444,
             "#bd3786"
            ],
            [
             0.5555555555555556,
             "#d8576b"
            ],
            [
             0.6666666666666666,
             "#ed7953"
            ],
            [
             0.7777777777777778,
             "#fb9f3a"
            ],
            [
             0.8888888888888888,
             "#fdca26"
            ],
            [
             1,
             "#f0f921"
            ]
           ],
           "sequentialminus": [
            [
             0,
             "#0d0887"
            ],
            [
             0.1111111111111111,
             "#46039f"
            ],
            [
             0.2222222222222222,
             "#7201a8"
            ],
            [
             0.3333333333333333,
             "#9c179e"
            ],
            [
             0.4444444444444444,
             "#bd3786"
            ],
            [
             0.5555555555555556,
             "#d8576b"
            ],
            [
             0.6666666666666666,
             "#ed7953"
            ],
            [
             0.7777777777777778,
             "#fb9f3a"
            ],
            [
             0.8888888888888888,
             "#fdca26"
            ],
            [
             1,
             "#f0f921"
            ]
           ]
          },
          "colorway": [
           "#636efa",
           "#EF553B",
           "#00cc96",
           "#ab63fa",
           "#FFA15A",
           "#19d3f3",
           "#FF6692",
           "#B6E880",
           "#FF97FF",
           "#FECB52"
          ],
          "font": {
           "color": "#2a3f5f"
          },
          "geo": {
           "bgcolor": "white",
           "lakecolor": "white",
           "landcolor": "#E5ECF6",
           "showlakes": true,
           "showland": true,
           "subunitcolor": "white"
          },
          "hoverlabel": {
           "align": "left"
          },
          "hovermode": "closest",
          "mapbox": {
           "style": "light"
          },
          "paper_bgcolor": "white",
          "plot_bgcolor": "#E5ECF6",
          "polar": {
           "angularaxis": {
            "gridcolor": "white",
            "linecolor": "white",
            "ticks": ""
           },
           "bgcolor": "#E5ECF6",
           "radialaxis": {
            "gridcolor": "white",
            "linecolor": "white",
            "ticks": ""
           }
          },
          "scene": {
           "xaxis": {
            "backgroundcolor": "#E5ECF6",
            "gridcolor": "white",
            "gridwidth": 2,
            "linecolor": "white",
            "showbackground": true,
            "ticks": "",
            "zerolinecolor": "white"
           },
           "yaxis": {
            "backgroundcolor": "#E5ECF6",
            "gridcolor": "white",
            "gridwidth": 2,
            "linecolor": "white",
            "showbackground": true,
            "ticks": "",
            "zerolinecolor": "white"
           },
           "zaxis": {
            "backgroundcolor": "#E5ECF6",
            "gridcolor": "white",
            "gridwidth": 2,
            "linecolor": "white",
            "showbackground": true,
            "ticks": "",
            "zerolinecolor": "white"
           }
          },
          "shapedefaults": {
           "line": {
            "color": "#2a3f5f"
           }
          },
          "ternary": {
           "aaxis": {
            "gridcolor": "white",
            "linecolor": "white",
            "ticks": ""
           },
           "baxis": {
            "gridcolor": "white",
            "linecolor": "white",
            "ticks": ""
           },
           "bgcolor": "#E5ECF6",
           "caxis": {
            "gridcolor": "white",
            "linecolor": "white",
            "ticks": ""
           }
          },
          "title": {
           "x": 0.05
          },
          "xaxis": {
           "automargin": true,
           "gridcolor": "white",
           "linecolor": "white",
           "ticks": "",
           "title": {
            "standoff": 15
           },
           "zerolinecolor": "white",
           "zerolinewidth": 2
          },
          "yaxis": {
           "automargin": true,
           "gridcolor": "white",
           "linecolor": "white",
           "ticks": "",
           "title": {
            "standoff": 15
           },
           "zerolinecolor": "white",
           "zerolinewidth": 2
          }
         }
        },
        "width": 700,
        "xaxis": {
         "gridcolor": "lightgray",
         "showgrid": true,
         "title": {
          "text": "x [mm]"
         }
        },
        "yaxis": {
         "gridcolor": "lightgray",
         "showgrid": true,
         "tickfont": {
          "color": "#01426a"
         },
         "title": {
          "font": {
           "color": "#01426a"
          },
          "text": "u(x) [mm]"
         }
        }
       }
      }
     },
     "metadata": {},
     "output_type": "display_data"
    }
   ],
   "source": [
    "model.train()\n",
    "\n",
    "u, x_g, detJ    = model()\n",
    "\n",
    "model.eval()\n",
    "\n",
    "x_test = torch.linspace(0,6,30)\n",
    "u_eval = model(x_test)\n",
    "# plt.figure()\n",
    "# plt.plot(x_g.data,u.data, '+',label='Gauss points')\n",
    "# plt.plot(x_test.data,u_eval.data, 'o',label='Test points')\n",
    "# plt.xlabel(\"x [mm]\")\n",
    "# plt.ylabel(\"u(x) [mm]\")\n",
    "# plt.legend()\n",
    "# plt.show() \n",
    "\n",
    "fig = go.Figure()\n",
    "\n",
    "fig.add_trace(go.Scatter(x=x_g.data[:,0], y=u.data, mode='markers', marker=dict(symbol='cross'), name='Gauss points',    line=dict(color='#01426a')))\n",
    "\n",
    "fig.add_trace(go.Scatter(x=x_test.data, y=u_eval.data, mode='markers', marker=dict(symbol='circle'), name='Test points', line=dict(color='#CE0037')))\n",
    "\n",
    "fig.update_layout(\n",
    "    margin=dict(l=0, r=0, t=0, b=0),\n",
    "    plot_bgcolor='rgba(0,0,0,0)',  # Remove background color\n",
    "    width=700, \n",
    "    height=400,  \n",
    "    xaxis=dict(title='x [mm]',\n",
    "    showgrid=True,\n",
    "    gridcolor='lightgray'),\n",
    "    yaxis=dict(title='u(x) [mm]',\n",
    "    showgrid=True,\n",
    "    gridcolor='lightgray',\n",
    "    titlefont=dict(color='#01426a'),\n",
    "    tickfont=dict(color='#01426a'),),    \n",
    "    legend=dict(x=0, y=1, traceorder=\"normal\")\n",
    ")\n",
    "\n",
    "fig.show()"
   ]
  },
  {
   "cell_type": "code",
   "execution_count": 46,
   "id": "55f2b988",
   "metadata": {},
   "outputs": [
    {
     "data": {
      "application/vnd.plotly.v1+json": {
       "config": {
        "plotlyServerURL": "https://plot.ly"
       },
       "data": [
        {
         "line": {
          "color": "#01426a"
         },
         "mode": "lines+markers",
         "name": "du/dx",
         "type": "scatter",
         "x": [
          0.08051282167434692,
          0.24153846502304077,
          0.4025641083717346,
          0.5635897517204285,
          0.7246153950691223,
          0.8856410384178162,
          1.0466666221618652,
          1.2076923847198486,
          1.368717908859253,
          1.5297436714172363,
          1.6907691955566406,
          1.851794958114624,
          2.0128204822540283,
          2.1738462448120117,
          2.334871768951416,
          2.4958975315093994,
          2.6569230556488037,
          2.817948818206787,
          2.9789743423461914,
          3.140000104904175,
          3.301025867462158,
          3.4620513916015625,
          3.623077154159546,
          3.78410267829895,
          3.9451284408569336,
          4.106154441833496,
          4.267179489135742,
          4.428205490112305,
          4.589230537414551,
          4.750256538391113,
          4.911282539367676,
          5.072307586669922,
          5.233333587646484,
          5.394359588623047,
          5.555384635925293,
          5.7164106369018555,
          5.877435684204102,
          6.038461685180664,
          6.199487686157227
         ],
         "y": [
          3059.48974609375,
          2898.462158203125,
          2737.435791015625,
          2576.4072265625,
          2415.391357421875,
          2254.35205078125,
          2093.33056640625,
          1932.3011474609375,
          1771.281494140625,
          1610.259033203125,
          1449.2373046875,
          1288.2027587890625,
          1127.171875,
          966.1472778320312,
          805.1326293945312,
          644.10986328125,
          483.0796813964844,
          322.04791259765625,
          161.01513671875,
          -0.0007754005491733551,
          -161.02261352539062,
          -322.0434265136719,
          -483.0787353515625,
          -644.1112670898438,
          -805.1312866210938,
          -966.1495361328125,
          -1127.1708984375,
          -1288.2041015625,
          -1449.2366943359375,
          -1610.258544921875,
          -1771.2806396484375,
          -1932.3011474609375,
          -2093.330322265625,
          -2254.352294921875,
          -2415.390625,
          -2576.40771484375,
          -2737.434814453125,
          -2898.461669921875,
          -3059.489501953125
         ]
        }
       ],
       "layout": {
        "height": 400,
        "margin": {
         "b": 0,
         "l": 0,
         "r": 0,
         "t": 0
        },
        "plot_bgcolor": "rgba(0,0,0,0)",
        "template": {
         "data": {
          "bar": [
           {
            "error_x": {
             "color": "#2a3f5f"
            },
            "error_y": {
             "color": "#2a3f5f"
            },
            "marker": {
             "line": {
              "color": "#E5ECF6",
              "width": 0.5
             },
             "pattern": {
              "fillmode": "overlay",
              "size": 10,
              "solidity": 0.2
             }
            },
            "type": "bar"
           }
          ],
          "barpolar": [
           {
            "marker": {
             "line": {
              "color": "#E5ECF6",
              "width": 0.5
             },
             "pattern": {
              "fillmode": "overlay",
              "size": 10,
              "solidity": 0.2
             }
            },
            "type": "barpolar"
           }
          ],
          "carpet": [
           {
            "aaxis": {
             "endlinecolor": "#2a3f5f",
             "gridcolor": "white",
             "linecolor": "white",
             "minorgridcolor": "white",
             "startlinecolor": "#2a3f5f"
            },
            "baxis": {
             "endlinecolor": "#2a3f5f",
             "gridcolor": "white",
             "linecolor": "white",
             "minorgridcolor": "white",
             "startlinecolor": "#2a3f5f"
            },
            "type": "carpet"
           }
          ],
          "choropleth": [
           {
            "colorbar": {
             "outlinewidth": 0,
             "ticks": ""
            },
            "type": "choropleth"
           }
          ],
          "contour": [
           {
            "colorbar": {
             "outlinewidth": 0,
             "ticks": ""
            },
            "colorscale": [
             [
              0,
              "#0d0887"
             ],
             [
              0.1111111111111111,
              "#46039f"
             ],
             [
              0.2222222222222222,
              "#7201a8"
             ],
             [
              0.3333333333333333,
              "#9c179e"
             ],
             [
              0.4444444444444444,
              "#bd3786"
             ],
             [
              0.5555555555555556,
              "#d8576b"
             ],
             [
              0.6666666666666666,
              "#ed7953"
             ],
             [
              0.7777777777777778,
              "#fb9f3a"
             ],
             [
              0.8888888888888888,
              "#fdca26"
             ],
             [
              1,
              "#f0f921"
             ]
            ],
            "type": "contour"
           }
          ],
          "contourcarpet": [
           {
            "colorbar": {
             "outlinewidth": 0,
             "ticks": ""
            },
            "type": "contourcarpet"
           }
          ],
          "heatmap": [
           {
            "colorbar": {
             "outlinewidth": 0,
             "ticks": ""
            },
            "colorscale": [
             [
              0,
              "#0d0887"
             ],
             [
              0.1111111111111111,
              "#46039f"
             ],
             [
              0.2222222222222222,
              "#7201a8"
             ],
             [
              0.3333333333333333,
              "#9c179e"
             ],
             [
              0.4444444444444444,
              "#bd3786"
             ],
             [
              0.5555555555555556,
              "#d8576b"
             ],
             [
              0.6666666666666666,
              "#ed7953"
             ],
             [
              0.7777777777777778,
              "#fb9f3a"
             ],
             [
              0.8888888888888888,
              "#fdca26"
             ],
             [
              1,
              "#f0f921"
             ]
            ],
            "type": "heatmap"
           }
          ],
          "heatmapgl": [
           {
            "colorbar": {
             "outlinewidth": 0,
             "ticks": ""
            },
            "colorscale": [
             [
              0,
              "#0d0887"
             ],
             [
              0.1111111111111111,
              "#46039f"
             ],
             [
              0.2222222222222222,
              "#7201a8"
             ],
             [
              0.3333333333333333,
              "#9c179e"
             ],
             [
              0.4444444444444444,
              "#bd3786"
             ],
             [
              0.5555555555555556,
              "#d8576b"
             ],
             [
              0.6666666666666666,
              "#ed7953"
             ],
             [
              0.7777777777777778,
              "#fb9f3a"
             ],
             [
              0.8888888888888888,
              "#fdca26"
             ],
             [
              1,
              "#f0f921"
             ]
            ],
            "type": "heatmapgl"
           }
          ],
          "histogram": [
           {
            "marker": {
             "pattern": {
              "fillmode": "overlay",
              "size": 10,
              "solidity": 0.2
             }
            },
            "type": "histogram"
           }
          ],
          "histogram2d": [
           {
            "colorbar": {
             "outlinewidth": 0,
             "ticks": ""
            },
            "colorscale": [
             [
              0,
              "#0d0887"
             ],
             [
              0.1111111111111111,
              "#46039f"
             ],
             [
              0.2222222222222222,
              "#7201a8"
             ],
             [
              0.3333333333333333,
              "#9c179e"
             ],
             [
              0.4444444444444444,
              "#bd3786"
             ],
             [
              0.5555555555555556,
              "#d8576b"
             ],
             [
              0.6666666666666666,
              "#ed7953"
             ],
             [
              0.7777777777777778,
              "#fb9f3a"
             ],
             [
              0.8888888888888888,
              "#fdca26"
             ],
             [
              1,
              "#f0f921"
             ]
            ],
            "type": "histogram2d"
           }
          ],
          "histogram2dcontour": [
           {
            "colorbar": {
             "outlinewidth": 0,
             "ticks": ""
            },
            "colorscale": [
             [
              0,
              "#0d0887"
             ],
             [
              0.1111111111111111,
              "#46039f"
             ],
             [
              0.2222222222222222,
              "#7201a8"
             ],
             [
              0.3333333333333333,
              "#9c179e"
             ],
             [
              0.4444444444444444,
              "#bd3786"
             ],
             [
              0.5555555555555556,
              "#d8576b"
             ],
             [
              0.6666666666666666,
              "#ed7953"
             ],
             [
              0.7777777777777778,
              "#fb9f3a"
             ],
             [
              0.8888888888888888,
              "#fdca26"
             ],
             [
              1,
              "#f0f921"
             ]
            ],
            "type": "histogram2dcontour"
           }
          ],
          "mesh3d": [
           {
            "colorbar": {
             "outlinewidth": 0,
             "ticks": ""
            },
            "type": "mesh3d"
           }
          ],
          "parcoords": [
           {
            "line": {
             "colorbar": {
              "outlinewidth": 0,
              "ticks": ""
             }
            },
            "type": "parcoords"
           }
          ],
          "pie": [
           {
            "automargin": true,
            "type": "pie"
           }
          ],
          "scatter": [
           {
            "fillpattern": {
             "fillmode": "overlay",
             "size": 10,
             "solidity": 0.2
            },
            "type": "scatter"
           }
          ],
          "scatter3d": [
           {
            "line": {
             "colorbar": {
              "outlinewidth": 0,
              "ticks": ""
             }
            },
            "marker": {
             "colorbar": {
              "outlinewidth": 0,
              "ticks": ""
             }
            },
            "type": "scatter3d"
           }
          ],
          "scattercarpet": [
           {
            "marker": {
             "colorbar": {
              "outlinewidth": 0,
              "ticks": ""
             }
            },
            "type": "scattercarpet"
           }
          ],
          "scattergeo": [
           {
            "marker": {
             "colorbar": {
              "outlinewidth": 0,
              "ticks": ""
             }
            },
            "type": "scattergeo"
           }
          ],
          "scattergl": [
           {
            "marker": {
             "colorbar": {
              "outlinewidth": 0,
              "ticks": ""
             }
            },
            "type": "scattergl"
           }
          ],
          "scattermapbox": [
           {
            "marker": {
             "colorbar": {
              "outlinewidth": 0,
              "ticks": ""
             }
            },
            "type": "scattermapbox"
           }
          ],
          "scatterpolar": [
           {
            "marker": {
             "colorbar": {
              "outlinewidth": 0,
              "ticks": ""
             }
            },
            "type": "scatterpolar"
           }
          ],
          "scatterpolargl": [
           {
            "marker": {
             "colorbar": {
              "outlinewidth": 0,
              "ticks": ""
             }
            },
            "type": "scatterpolargl"
           }
          ],
          "scatterternary": [
           {
            "marker": {
             "colorbar": {
              "outlinewidth": 0,
              "ticks": ""
             }
            },
            "type": "scatterternary"
           }
          ],
          "surface": [
           {
            "colorbar": {
             "outlinewidth": 0,
             "ticks": ""
            },
            "colorscale": [
             [
              0,
              "#0d0887"
             ],
             [
              0.1111111111111111,
              "#46039f"
             ],
             [
              0.2222222222222222,
              "#7201a8"
             ],
             [
              0.3333333333333333,
              "#9c179e"
             ],
             [
              0.4444444444444444,
              "#bd3786"
             ],
             [
              0.5555555555555556,
              "#d8576b"
             ],
             [
              0.6666666666666666,
              "#ed7953"
             ],
             [
              0.7777777777777778,
              "#fb9f3a"
             ],
             [
              0.8888888888888888,
              "#fdca26"
             ],
             [
              1,
              "#f0f921"
             ]
            ],
            "type": "surface"
           }
          ],
          "table": [
           {
            "cells": {
             "fill": {
              "color": "#EBF0F8"
             },
             "line": {
              "color": "white"
             }
            },
            "header": {
             "fill": {
              "color": "#C8D4E3"
             },
             "line": {
              "color": "white"
             }
            },
            "type": "table"
           }
          ]
         },
         "layout": {
          "annotationdefaults": {
           "arrowcolor": "#2a3f5f",
           "arrowhead": 0,
           "arrowwidth": 1
          },
          "autotypenumbers": "strict",
          "coloraxis": {
           "colorbar": {
            "outlinewidth": 0,
            "ticks": ""
           }
          },
          "colorscale": {
           "diverging": [
            [
             0,
             "#8e0152"
            ],
            [
             0.1,
             "#c51b7d"
            ],
            [
             0.2,
             "#de77ae"
            ],
            [
             0.3,
             "#f1b6da"
            ],
            [
             0.4,
             "#fde0ef"
            ],
            [
             0.5,
             "#f7f7f7"
            ],
            [
             0.6,
             "#e6f5d0"
            ],
            [
             0.7,
             "#b8e186"
            ],
            [
             0.8,
             "#7fbc41"
            ],
            [
             0.9,
             "#4d9221"
            ],
            [
             1,
             "#276419"
            ]
           ],
           "sequential": [
            [
             0,
             "#0d0887"
            ],
            [
             0.1111111111111111,
             "#46039f"
            ],
            [
             0.2222222222222222,
             "#7201a8"
            ],
            [
             0.3333333333333333,
             "#9c179e"
            ],
            [
             0.4444444444444444,
             "#bd3786"
            ],
            [
             0.5555555555555556,
             "#d8576b"
            ],
            [
             0.6666666666666666,
             "#ed7953"
            ],
            [
             0.7777777777777778,
             "#fb9f3a"
            ],
            [
             0.8888888888888888,
             "#fdca26"
            ],
            [
             1,
             "#f0f921"
            ]
           ],
           "sequentialminus": [
            [
             0,
             "#0d0887"
            ],
            [
             0.1111111111111111,
             "#46039f"
            ],
            [
             0.2222222222222222,
             "#7201a8"
            ],
            [
             0.3333333333333333,
             "#9c179e"
            ],
            [
             0.4444444444444444,
             "#bd3786"
            ],
            [
             0.5555555555555556,
             "#d8576b"
            ],
            [
             0.6666666666666666,
             "#ed7953"
            ],
            [
             0.7777777777777778,
             "#fb9f3a"
            ],
            [
             0.8888888888888888,
             "#fdca26"
            ],
            [
             1,
             "#f0f921"
            ]
           ]
          },
          "colorway": [
           "#636efa",
           "#EF553B",
           "#00cc96",
           "#ab63fa",
           "#FFA15A",
           "#19d3f3",
           "#FF6692",
           "#B6E880",
           "#FF97FF",
           "#FECB52"
          ],
          "font": {
           "color": "#2a3f5f"
          },
          "geo": {
           "bgcolor": "white",
           "lakecolor": "white",
           "landcolor": "#E5ECF6",
           "showlakes": true,
           "showland": true,
           "subunitcolor": "white"
          },
          "hoverlabel": {
           "align": "left"
          },
          "hovermode": "closest",
          "mapbox": {
           "style": "light"
          },
          "paper_bgcolor": "white",
          "plot_bgcolor": "#E5ECF6",
          "polar": {
           "angularaxis": {
            "gridcolor": "white",
            "linecolor": "white",
            "ticks": ""
           },
           "bgcolor": "#E5ECF6",
           "radialaxis": {
            "gridcolor": "white",
            "linecolor": "white",
            "ticks": ""
           }
          },
          "scene": {
           "xaxis": {
            "backgroundcolor": "#E5ECF6",
            "gridcolor": "white",
            "gridwidth": 2,
            "linecolor": "white",
            "showbackground": true,
            "ticks": "",
            "zerolinecolor": "white"
           },
           "yaxis": {
            "backgroundcolor": "#E5ECF6",
            "gridcolor": "white",
            "gridwidth": 2,
            "linecolor": "white",
            "showbackground": true,
            "ticks": "",
            "zerolinecolor": "white"
           },
           "zaxis": {
            "backgroundcolor": "#E5ECF6",
            "gridcolor": "white",
            "gridwidth": 2,
            "linecolor": "white",
            "showbackground": true,
            "ticks": "",
            "zerolinecolor": "white"
           }
          },
          "shapedefaults": {
           "line": {
            "color": "#2a3f5f"
           }
          },
          "ternary": {
           "aaxis": {
            "gridcolor": "white",
            "linecolor": "white",
            "ticks": ""
           },
           "baxis": {
            "gridcolor": "white",
            "linecolor": "white",
            "ticks": ""
           },
           "bgcolor": "#E5ECF6",
           "caxis": {
            "gridcolor": "white",
            "linecolor": "white",
            "ticks": ""
           }
          },
          "title": {
           "x": 0.05
          },
          "xaxis": {
           "automargin": true,
           "gridcolor": "white",
           "linecolor": "white",
           "ticks": "",
           "title": {
            "standoff": 15
           },
           "zerolinecolor": "white",
           "zerolinewidth": 2
          },
          "yaxis": {
           "automargin": true,
           "gridcolor": "white",
           "linecolor": "white",
           "ticks": "",
           "title": {
            "standoff": 15
           },
           "zerolinecolor": "white",
           "zerolinewidth": 2
          }
         }
        },
        "width": 700,
        "xaxis": {
         "gridcolor": "lightgray",
         "showgrid": true,
         "title": {
          "text": "x [mm]"
         }
        },
        "yaxis": {
         "gridcolor": "lightgray",
         "showgrid": true,
         "tickfont": {
          "color": "#01426a"
         },
         "title": {
          "font": {
           "color": "#01426a"
          },
          "text": "du/dx [mm/mm]"
         }
        }
       }
      }
     },
     "metadata": {},
     "output_type": "display_data"
    }
   ],
   "source": [
    "model.train()\n",
    "u, x_g, detJ    = model()\n",
    "du_dxg = torch.autograd.grad(u, x_g, grad_outputs=torch.ones_like(u), create_graph=True)[0]\n",
    "# plt.figure()\n",
    "# plt.plot(x_g.data,du_dxg.data, '-o')\n",
    "# plt.xlabel(\"x [mm]\")\n",
    "# plt.ylabel(\"du/dx [mm/mm]\")\n",
    "# plt.show()\n",
    "\n",
    "fig = go.Figure()\n",
    "\n",
    "x_data = x_g.data.numpy()[:,0]\n",
    "y_data = du_dxg.data.numpy()[:,0]\n",
    "fig.add_trace(go.Scatter(x=x_data, y=y_data, mode='lines+markers', name='du/dx', line=dict(color='#01426a')\n",
    "))\n",
    "\n",
    "fig.update_layout(\n",
    "    margin=dict(l=0, r=0, t=0, b=0),\n",
    "    plot_bgcolor='rgba(0,0,0,0)',  # Remove background color\n",
    "    width=700, \n",
    "    height=400,  \n",
    "    xaxis=dict(title='x [mm]',\n",
    "    showgrid=True,\n",
    "    gridcolor='lightgray'),\n",
    "    yaxis=dict(title='du/dx [mm/mm]',\n",
    "    showgrid=True,\n",
    "    gridcolor='lightgray',\n",
    "    titlefont=dict(color='#01426a'),\n",
    "    tickfont=dict(color='#01426a'),),\n",
    ")\n",
    "\n",
    "fig.show()"
   ]
  }
 ],
 "metadata": {
  "kernelspec": {
   "display_name": "neurom",
   "language": "python",
   "name": "python3"
  },
  "language_info": {
   "codemirror_mode": {
    "name": "ipython",
    "version": 3
   },
   "file_extension": ".py",
   "mimetype": "text/x-python",
   "name": "python",
   "nbconvert_exporter": "python",
   "pygments_lexer": "ipython3",
   "version": "3.11.8"
  }
 },
 "nbformat": 4,
 "nbformat_minor": 5
}
